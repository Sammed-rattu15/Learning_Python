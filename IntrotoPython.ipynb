{
 "cells": [
  {
   "cell_type": "code",
   "execution_count": 8,
   "id": "24cc8523",
   "metadata": {},
   "outputs": [
    {
     "name": "stdout",
     "output_type": "stream",
     "text": [
      "Hello, World!\n"
     ]
    }
   ],
   "source": [
    "print(\"Hello, World!\")"
   ]
  },
  {
   "cell_type": "code",
   "execution_count": 2,
   "id": "dbd0ab14",
   "metadata": {},
   "outputs": [
    {
     "name": "stdout",
     "output_type": "stream",
     "text": [
      "['False', 'None', 'True', 'and', 'as', 'assert', 'async', 'await', 'break', 'class', 'continue', 'def', 'del', 'elif', 'else', 'except', 'finally', 'for', 'from', 'global', 'if', 'import', 'in', 'is', 'lambda', 'nonlocal', 'not', 'or', 'pass', 'raise', 'return', 'try', 'while', 'with', 'yield']\n"
     ]
    }
   ],
   "source": [
    "import keyword\n",
    "print(keyword.kwlist)"
   ]
  },
  {
   "cell_type": "code",
   "execution_count": 3,
   "id": "fa43cc33",
   "metadata": {},
   "outputs": [],
   "source": [
    "#this is a comment"
   ]
  },
  {
   "cell_type": "code",
   "execution_count": 5,
   "id": "a4c8415e",
   "metadata": {},
   "outputs": [
    {
     "data": {
      "text/plain": [
       "'this is \\n a comment'"
      ]
     },
     "execution_count": 5,
     "metadata": {},
     "output_type": "execute_result"
    }
   ],
   "source": [
    "'''this is \n",
    " a comment'''"
   ]
  },
  {
   "cell_type": "code",
   "execution_count": 9,
   "id": "183d063d",
   "metadata": {},
   "outputs": [
    {
     "name": "stdout",
     "output_type": "stream",
     "text": [
      "Jhon\n"
     ]
    }
   ],
   "source": [
    "name = \"Jhon\"\n",
    "age = 30\n",
    "\n",
    "print(name)"
   ]
  },
  {
   "cell_type": "code",
   "execution_count": 7,
   "id": "766c8ad6",
   "metadata": {},
   "outputs": [
    {
     "name": "stdout",
     "output_type": "stream",
     "text": [
      "<class 'int'>\n",
      "140714724856904\n"
     ]
    }
   ],
   "source": [
    "a = 10\n",
    "print(type(a))\n",
    "print(id(a))"
   ]
  },
  {
   "cell_type": "code",
   "execution_count": 8,
   "id": "293e056c",
   "metadata": {},
   "outputs": [
    {
     "name": "stdout",
     "output_type": "stream",
     "text": [
      "True\n",
      "140724141529160 140724141529160\n"
     ]
    }
   ],
   "source": [
    "a = 42\n",
    "b = 42\n",
    "print(a is b) #gives true\n",
    "print(id(a), id(b)) #id of both a & b are same"
   ]
  },
  {
   "cell_type": "code",
   "execution_count": 15,
   "id": "480fed9e",
   "metadata": {},
   "outputs": [
    {
     "name": "stdout",
     "output_type": "stream",
     "text": [
      "False\n",
      "2334759239920 2334759240176\n"
     ]
    }
   ],
   "source": [
    "x = 257\n",
    "y = 257\n",
    "print(x is y)\n",
    "print(id(x), id(y))"
   ]
  },
  {
   "cell_type": "code",
   "execution_count": 10,
   "id": "c6dfc56a",
   "metadata": {},
   "outputs": [
    {
     "name": "stdout",
     "output_type": "stream",
     "text": [
      "<class 'float'>\n",
      "2334744778448\n"
     ]
    }
   ],
   "source": [
    "a = 1.5\n",
    "print(type(a))\n",
    "print(id(a))"
   ]
  },
  {
   "cell_type": "code",
   "execution_count": 13,
   "id": "95c642e3",
   "metadata": {},
   "outputs": [
    {
     "name": "stdout",
     "output_type": "stream",
     "text": [
      "<class 'complex'>\n",
      "2334759239760\n"
     ]
    }
   ],
   "source": [
    "z = 3 +4j\n",
    "print(type(z))\n",
    "print(id(z))"
   ]
  },
  {
   "cell_type": "code",
   "execution_count": 14,
   "id": "8e554e82",
   "metadata": {},
   "outputs": [
    {
     "name": "stdout",
     "output_type": "stream",
     "text": [
      "John\n",
      "Doe\n"
     ]
    }
   ],
   "source": [
    "first_name = \"John\"\n",
    "last_name = \"Doe\"\n",
    "full_name = first_name + \"\\n\" + last_name\n",
    "print(full_name)"
   ]
  },
  {
   "cell_type": "code",
   "execution_count": 23,
   "id": "6b8c8211",
   "metadata": {},
   "outputs": [
    {
     "name": "stdout",
     "output_type": "stream",
     "text": [
      "6\n"
     ]
    }
   ],
   "source": [
    "text = \"Python\"\n",
    "print(len(text))"
   ]
  },
  {
   "cell_type": "code",
   "execution_count": 19,
   "id": "51c24714",
   "metadata": {},
   "outputs": [
    {
     "name": "stdout",
     "output_type": "stream",
     "text": [
      "I\n",
      "n\n",
      "d\n",
      "r\n",
      "a\n",
      "n\n",
      "i\n",
      "l\n",
      "40\n"
     ]
    }
   ],
   "source": [
    "# Understanding the count of words, it starts from ,-1,0,1\n",
    "text = \"Indranil is a bad boy and always drinks.\"\n",
    "print(text[0])\n",
    "print(text[1])\n",
    "print(text[2])\n",
    "print(text[3])\n",
    "print(text[4])\n",
    "print(text[5])\n",
    "print(text[6])\n",
    "print(text[7])\n",
    "print(len(text))"
   ]
  },
  {
   "cell_type": "code",
   "execution_count": 53,
   "id": "d516be67",
   "metadata": {},
   "outputs": [
    {
     "name": "stdout",
     "output_type": "stream",
     "text": [
      "hon\n",
      "th\n"
     ]
    }
   ],
   "source": [
    "print(text[3:6])\n",
    "print(text[-4:-2])"
   ]
  },
  {
   "cell_type": "code",
   "execution_count": 6,
   "id": "02cc5157",
   "metadata": {},
   "outputs": [
    {
     "name": "stdout",
     "output_type": "stream",
     "text": [
      "<class 'str'>\n",
      "42\n"
     ]
    }
   ],
   "source": [
    "number = \"42\"\n",
    "print(type(number))\n",
    "print(str(number))"
   ]
  },
  {
   "cell_type": "code",
   "execution_count": 7,
   "id": "c06a8214",
   "metadata": {},
   "outputs": [
    {
     "name": "stdout",
     "output_type": "stream",
     "text": [
      "42\n"
     ]
    }
   ],
   "source": [
    "str_number = \"42\"\n",
    "integer = str_number\n",
    "print(int(integer))"
   ]
  },
  {
   "cell_type": "code",
   "execution_count": 22,
   "id": "853f3310",
   "metadata": {},
   "outputs": [
    {
     "name": "stdout",
     "output_type": "stream",
     "text": [
      "PYTHON IS FUN\n",
      "python is fun\n",
      "Python is fun\n",
      "Python Is Fun\n"
     ]
    }
   ],
   "source": [
    "# Converting Cases of a single text.\n",
    "text = \"Python is fun\"\n",
    "upper_text=text.upper()\n",
    "lower_text=text.lower()\n",
    "print(upper_text)\n",
    "print(lower_text)\n",
    "print(text.capitalize())\n",
    "print(text.title())"
   ]
  },
  {
   "cell_type": "code",
   "execution_count": 20,
   "id": "e9325e00",
   "metadata": {},
   "outputs": [
    {
     "name": "stdout",
     "output_type": "stream",
     "text": [
      "Python is Fun!\n"
     ]
    }
   ],
   "source": [
    "my_string = \"Python is Fun!\"\n",
    "stripped_string = my_string.strip()\n",
    "print(stripped_string)"
   ]
  },
  {
   "cell_type": "code",
   "execution_count": 51,
   "id": "3b602b2e",
   "metadata": {},
   "outputs": [
    {
     "name": "stdout",
     "output_type": "stream",
     "text": [
      "0\n",
      "JavaScript is fun and JavaScript is fun\n"
     ]
    }
   ],
   "source": [
    "# Finding and replacing any word or number\n",
    "sentence = \"Python is fun and Python is fun\"\n",
    "index = sentence.find(\"Python\")\n",
    "replace = sentence.replace(\"Python\", \"JavaScript\")\n",
    "print(index)\n",
    "print(replace)"
   ]
  },
  {
   "cell_type": "code",
   "execution_count": 36,
   "id": "c061ebd8",
   "metadata": {},
   "outputs": [
    {
     "name": "stdout",
     "output_type": "stream",
     "text": [
      "10\n"
     ]
    }
   ],
   "source": [
    "find = sentence.index(\"fun\")\n",
    "print(find)"
   ]
  },
  {
   "cell_type": "code",
   "execution_count": 53,
   "id": "b28b891f",
   "metadata": {},
   "outputs": [
    {
     "name": "stdout",
     "output_type": "stream",
     "text": [
      "2\n"
     ]
    }
   ],
   "source": [
    "# Counting the number of words present\n",
    "sentence = \"Python is easy and Python is fun\"\n",
    "count_is = sentence.count(\"is\")\n",
    "print(count_is)"
   ]
  },
  {
   "cell_type": "code",
   "execution_count": 54,
   "id": "359dcbf5",
   "metadata": {},
   "outputs": [
    {
     "name": "stdout",
     "output_type": "stream",
     "text": [
      "False\n"
     ]
    }
   ],
   "source": [
    "text = \"Hello World\"\n",
    "starts_with = text.startswith(\"World\")\n",
    "print(starts_with)"
   ]
  },
  {
   "cell_type": "code",
   "execution_count": 23,
   "id": "6230a169",
   "metadata": {},
   "outputs": [
    {
     "name": "stdout",
     "output_type": "stream",
     "text": [
      "['Python', 'is', 'easy', 'and', 'Python', 'is', 'fun']\n",
      "P y t h o n   i s   e a s y   a n d   P y t h o n   i s   f u n\n"
     ]
    }
   ],
   "source": [
    "# Spliting and Joining the sentences\n",
    "sentence = \"Python is easy and Python is fun\"\n",
    "\n",
    "split_sentence = sentence.split()\n",
    "print(split_sentence)\n",
    "\n",
    "join_sentence = \" \".join(sentence)\n",
    "print(join_sentence)"
   ]
  },
  {
   "cell_type": "code",
   "execution_count": 24,
   "id": "fba46467",
   "metadata": {},
   "outputs": [
    {
     "name": "stdout",
     "output_type": "stream",
     "text": [
      "My name is John, and I am 25 years old.\n"
     ]
    }
   ],
   "source": [
    "# Use format method to add something to a sentence,For example\n",
    "name = \"John\"\n",
    "age = 25\n",
    "formatted_string = \"My name is {}, and I am {} years old.\".format(name, age)\n",
    "print(formatted_string)"
   ]
  },
  {
   "cell_type": "code",
   "execution_count": 25,
   "id": "2d8a85e2",
   "metadata": {},
   "outputs": [
    {
     "name": "stdout",
     "output_type": "stream",
     "text": [
      "False\n"
     ]
    }
   ],
   "source": [
    "# Casting and Conversion\n",
    "value = 0\n",
    "bool_value = bool(value)\n",
    "print(bool_value)"
   ]
  },
  {
   "cell_type": "code",
   "execution_count": 26,
   "id": "eaeccaf7",
   "metadata": {},
   "outputs": [
    {
     "name": "stdout",
     "output_type": "stream",
     "text": [
      "{'a': 1, 'b': 2}\n"
     ]
    }
   ],
   "source": [
    "my_list = [('a', 1), ('b', 2)]\n",
    "print(dict(my_list))"
   ]
  },
  {
   "cell_type": "code",
   "execution_count": 27,
   "id": "995825ba",
   "metadata": {},
   "outputs": [
    {
     "name": "stdout",
     "output_type": "stream",
     "text": [
      "0\n",
      "14\n",
      "14\n",
      "10\n"
     ]
    }
   ],
   "source": [
    "a = 10\n",
    "b = 4\n",
    "print(a&b)\n",
    "print(a|b)\n",
    "print(a^b)\n",
    "print(a)"
   ]
  },
  {
   "cell_type": "code",
   "execution_count": 28,
   "id": "f8a10301",
   "metadata": {},
   "outputs": [
    {
     "name": "stdout",
     "output_type": "stream",
     "text": [
      "10\n"
     ]
    }
   ],
   "source": [
    "x = 10\n",
    "print(x)"
   ]
  },
  {
   "cell_type": "code",
   "execution_count": null,
   "id": "79420827",
   "metadata": {},
   "outputs": [],
   "source": []
  }
 ],
 "metadata": {
  "kernelspec": {
   "display_name": "Python 3 (ipykernel)",
   "language": "python",
   "name": "python3"
  },
  "language_info": {
   "codemirror_mode": {
    "name": "ipython",
    "version": 3
   },
   "file_extension": ".py",
   "mimetype": "text/x-python",
   "name": "python",
   "nbconvert_exporter": "python",
   "pygments_lexer": "ipython3",
   "version": "3.11.5"
  }
 },
 "nbformat": 4,
 "nbformat_minor": 5
}
