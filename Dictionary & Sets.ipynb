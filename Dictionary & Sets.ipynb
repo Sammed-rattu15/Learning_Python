{
 "cells": [
  {
   "cell_type": "markdown",
   "id": "590764e0",
   "metadata": {},
   "source": [
    "# DICTIONARIES"
   ]
  },
  {
   "cell_type": "code",
   "execution_count": 21,
   "id": "543d7de0",
   "metadata": {},
   "outputs": [
    {
     "name": "stdout",
     "output_type": "stream",
     "text": [
      "<class 'dict'>\n"
     ]
    }
   ],
   "source": [
    "# Creating a Dictionary:\n",
    "\n",
    "mydict = {'name':'Shaw', 'age':58, 'gender':'male'}\n",
    "\n",
    "print(type(mydict))"
   ]
  },
  {
   "cell_type": "code",
   "execution_count": 22,
   "id": "043f0a58",
   "metadata": {},
   "outputs": [
    {
     "name": "stdout",
     "output_type": "stream",
     "text": [
      "Keys:  dict_keys(['name', 'age', 'gender']) \n",
      "Values:  dict_values(['Shaw', 58, 'male'])\n"
     ]
    }
   ],
   "source": [
    "# Accesing the Keys and values from the dictionay:\n",
    "\n",
    "mydict_keys = mydict.keys()  ## Extracting the keys fromt the dict.\n",
    "mydict_values = mydict.values()  ## Extracting the Values fromt the dict.\n",
    "mydict_items = mydict.items()   ## Extracting the Items fromt the dict.\n",
    "\n",
    "print(\"Keys: \", mydict_keys, \"\\nValues: \", mydict_values)"
   ]
  },
  {
   "cell_type": "code",
   "execution_count": 23,
   "id": "d61e8908",
   "metadata": {},
   "outputs": [
    {
     "name": "stdout",
     "output_type": "stream",
     "text": [
      "Keys:  name\n",
      "Values:  Shaw\n",
      "Keys:  age\n",
      "Values:  58\n",
      "Keys:  gender\n",
      "Values:  male\n"
     ]
    }
   ],
   "source": [
    "# Accesing the items from the dictionary:\n",
    "\n",
    "for key, value in mydict.items():\n",
    "    print(\"Keys: \", key)\n",
    "    print(\"Values: \", value)"
   ]
  },
  {
   "cell_type": "code",
   "execution_count": 24,
   "id": "3dd05e16",
   "metadata": {},
   "outputs": [
    {
     "name": "stdout",
     "output_type": "stream",
     "text": [
      "Items:  ('name', 'Shaw')\n",
      "Items:  ('age', 58)\n",
      "Items:  ('gender', 'male')\n"
     ]
    }
   ],
   "source": [
    "# Accesing the items from the dictionary:\n",
    "for item in mydict.items():\n",
    "    print(\"Items: \", item)"
   ]
  },
  {
   "cell_type": "code",
   "execution_count": 25,
   "id": "82dadfc1",
   "metadata": {},
   "outputs": [
    {
     "data": {
      "text/plain": [
       "{('Shaw', 'name'), ('male', 'gender'), (58, 'age')}"
      ]
     },
     "execution_count": 25,
     "metadata": {},
     "output_type": "execute_result"
    }
   ],
   "source": [
    "# Reversing the items in the dictionary:\n",
    "\n",
    "swapped_dict = {(value, key) for key, value in mydict.items()}\n",
    "swapped_dict"
   ]
  },
  {
   "cell_type": "code",
   "execution_count": 26,
   "id": "de94d835",
   "metadata": {},
   "outputs": [
    {
     "name": "stdout",
     "output_type": "stream",
     "text": [
      "{'name': 'Shaw', 'age': 58, 'gender': 'male', 'location': 'Bangalore'}\n"
     ]
    }
   ],
   "source": [
    "# Adding the element in the dictionary:\n",
    "\n",
    "mydict['location'] = 'Bangalore'\n",
    "print(mydict)"
   ]
  },
  {
   "cell_type": "code",
   "execution_count": 27,
   "id": "7ae9b5eb",
   "metadata": {},
   "outputs": [
    {
     "name": "stdout",
     "output_type": "stream",
     "text": [
      "{'first': 1} {'second': 2}\n"
     ]
    }
   ],
   "source": [
    "# Creating the empty dictionary:\n",
    "\n",
    "new_dict1 = {}\n",
    "new_dict2 = {}\n",
    "\n",
    "new_dict1['first'] = 1\n",
    "new_dict2['second'] = 2\n",
    "print(new_dict1, new_dict2)"
   ]
  },
  {
   "cell_type": "code",
   "execution_count": 28,
   "id": "489f7f07",
   "metadata": {},
   "outputs": [
    {
     "data": {
      "text/plain": [
       "{'name': 'Alice', 'age': 22, 'grade': 'A', 'city': 'New York'}"
      ]
     },
     "execution_count": 28,
     "metadata": {},
     "output_type": "execute_result"
    }
   ],
   "source": [
    "# Updating a dictionary with another dictionary:\n",
    "\n",
    "student_info = {'name': 'Alice', 'age': 22, 'grade': 'A'}\n",
    "student_info['city'] = 'New York'  ## Add a new key-value pair:\n",
    "\n",
    "student_info"
   ]
  },
  {
   "cell_type": "code",
   "execution_count": 29,
   "id": "1de4df21",
   "metadata": {},
   "outputs": [
    {
     "data": {
      "text/plain": [
       "{'name': 'Alice', 'age': 22, 'grade': 'A', 'city': 'Boston', 'marks': 95}"
      ]
     },
     "execution_count": 29,
     "metadata": {},
     "output_type": "execute_result"
    }
   ],
   "source": [
    "additional_info = {'city': 'Boston', 'marks': 95}\n",
    "student_info.update(additional_info)\n",
    "\n",
    "student_info"
   ]
  },
  {
   "cell_type": "code",
   "execution_count": 30,
   "id": "9e440ab3",
   "metadata": {},
   "outputs": [
    {
     "data": {
      "text/plain": [
       "{'name': ['Shan', 'Sam', 'Ajith'], 'gender': ['male', 'male', 'male']}"
      ]
     },
     "execution_count": 30,
     "metadata": {},
     "output_type": "execute_result"
    }
   ],
   "source": [
    "## Dictionary with multiple values for a key:\n",
    "\n",
    "student = {'name': ['Shan', 'Sam', 'Ajith'], 'gender':['male', 'male', 'male']}\n",
    "student"
   ]
  },
  {
   "cell_type": "code",
   "execution_count": 31,
   "id": "96067da3",
   "metadata": {},
   "outputs": [
    {
     "data": {
      "text/plain": [
       "{'name': ['Shan', 'Sam', 'Lucy'], 'gender': ['male', 'male', 'female']}"
      ]
     },
     "execution_count": 31,
     "metadata": {},
     "output_type": "execute_result"
    }
   ],
   "source": [
    "student['name'][2] = 'Lucy'\n",
    "student['gender'][2] = 'female'\n",
    "\n",
    "student"
   ]
  },
  {
   "cell_type": "code",
   "execution_count": 32,
   "id": "a26d9b35",
   "metadata": {},
   "outputs": [
    {
     "data": {
      "text/plain": [
       "{'name': 'Alice', 'age': 22, 'grade': 'A', 'city': 'Boston', 'marks': 95}"
      ]
     },
     "execution_count": 32,
     "metadata": {},
     "output_type": "execute_result"
    }
   ],
   "source": [
    "## Removal of a particular key \n",
    "student_info"
   ]
  },
  {
   "cell_type": "code",
   "execution_count": 33,
   "id": "cf68df3f",
   "metadata": {},
   "outputs": [
    {
     "data": {
      "text/plain": [
       "{'name': 'Alice', 'grade': 'A', 'city': 'Boston', 'marks': 95}"
      ]
     },
     "execution_count": 33,
     "metadata": {},
     "output_type": "execute_result"
    }
   ],
   "source": [
    "student_info.pop('age')\n",
    "student_info"
   ]
  },
  {
   "cell_type": "code",
   "execution_count": 34,
   "id": "0d2480f8",
   "metadata": {},
   "outputs": [
    {
     "data": {
      "text/plain": [
       "('marks', 95)"
      ]
     },
     "execution_count": 34,
     "metadata": {},
     "output_type": "execute_result"
    }
   ],
   "source": [
    "# Using \"popitem\" to remove a key, value pair from a dict:\n",
    "\n",
    "popped_items = student_info.popitem()\n",
    "popped_items"
   ]
  },
  {
   "cell_type": "code",
   "execution_count": 35,
   "id": "d9149db9",
   "metadata": {},
   "outputs": [
    {
     "name": "stdout",
     "output_type": "stream",
     "text": [
      "{'name': 'Alice', 'grade': 'A', 'city': 'Boston'}\n",
      "{'name': 'Alice', 'city': 'Boston'}\n"
     ]
    }
   ],
   "source": [
    "# Using \"del\" to remove a key, value pair from a dict:\n",
    "print(student_info)\n",
    "del student_info['grade']\n",
    "print(student_info)"
   ]
  },
  {
   "cell_type": "code",
   "execution_count": 36,
   "id": "c32201bf",
   "metadata": {},
   "outputs": [
    {
     "data": {
      "text/plain": [
       "{'Name': 'Alice', 'Age': 22, 'Grade': 'A', 'City': 'New York'}"
      ]
     },
     "execution_count": 36,
     "metadata": {},
     "output_type": "execute_result"
    }
   ],
   "source": [
    "## Checking the \"Keys\", \"Values\" & \"items\" present in dict\n",
    "\n",
    "student_info = {'Name': 'Alice', 'Age': 22, 'Grade': 'A'}\n",
    "student_info['City'] = 'New York'  ## Add a new key-value pair:\n",
    "\n",
    "student_info"
   ]
  },
  {
   "cell_type": "code",
   "execution_count": 37,
   "id": "2b06ddba",
   "metadata": {},
   "outputs": [
    {
     "name": "stdout",
     "output_type": "stream",
     "text": [
      "False\n"
     ]
    }
   ],
   "source": [
    "# Checking age present in keys\n",
    "print('age' in student_info)"
   ]
  },
  {
   "cell_type": "code",
   "execution_count": 38,
   "id": "74c76642",
   "metadata": {},
   "outputs": [
    {
     "name": "stdout",
     "output_type": "stream",
     "text": [
      "{'Name': 'Alice', 'Age': 22, 'Grade': 'A', 'City': 'New York', 'Last Name': 'Morgan'}\n"
     ]
    }
   ],
   "source": [
    "additional_info1 = {'Last Name': 'Morgan'}\n",
    "student_info.update(additional_info1)\n",
    "\n",
    "print(student_info)"
   ]
  },
  {
   "cell_type": "code",
   "execution_count": 39,
   "id": "dcf133f5",
   "metadata": {},
   "outputs": [
    {
     "name": "stdout",
     "output_type": "stream",
     "text": [
      "{'Age': 22, 'City': 'New York', 'Grade': 'A', 'Last Name': 'Morgan', 'Name': 'Alice'}\n"
     ]
    }
   ],
   "source": [
    "# Sorting of dict using the \"sorted\" method:\n",
    "\n",
    "sorted_student_info = dict(sorted(student_info.items()))\n",
    "\n",
    "print(sorted_student_info)"
   ]
  },
  {
   "cell_type": "code",
   "execution_count": 40,
   "id": "6e7e1a21",
   "metadata": {},
   "outputs": [
    {
     "name": "stdout",
     "output_type": "stream",
     "text": [
      "{1: 1, 2: 4, 3: 9, 4: 16, 5: 25}\n"
     ]
    }
   ],
   "source": [
    "square_dict = {x:x**2 for x in range(1,6)}\n",
    "\n",
    "print(square_dict)"
   ]
  },
  {
   "cell_type": "code",
   "execution_count": null,
   "id": "e7c0ddaf",
   "metadata": {},
   "outputs": [],
   "source": [
    "Keys = ['name', 'age', 'city']\n",
    "values = ['John', 28, 'Chelsea']\n"
   ]
  },
  {
   "cell_type": "code",
   "execution_count": 60,
   "id": "ff142ad4",
   "metadata": {},
   "outputs": [
    {
     "name": "stdout",
     "output_type": "stream",
     "text": [
      "The employee with highest salary is:  ('Sam', 9000)\n",
      "the average salary is:  6280.0\n",
      "Employees who can earn more salary:  ['Sam', 'Max', 'Paul']\n"
     ]
    }
   ],
   "source": [
    "emp = {\"John\": 4000, \"Sam\": 9000, \"Max\": 6800, \"Paul\": 8800, \"Jack\": 2800}\n",
    "\n",
    "emp_key = emp.keys()\n",
    "emp_values = emp.values()\n",
    "emp_items = emp.items()\n",
    "\n",
    "# Find the highest salary from the above dict:\n",
    "highest_salary = max(emp_items)\n",
    "print(\"The employee with highest salary is: \", highest_salary)\n",
    "\n",
    "# Find the average of salary in the above dict:\n",
    "average = sum(emp_values)/len(emp_values)\n",
    "print(f\"the average salary is: \", average)\n",
    "\n",
    "# Identify and display the names of students who's salary is above a certain threshold:\n",
    "threshold = 4000\n",
    "above_threshold = [key for key, value in emp_items if value > 4000]\n",
    "print(\"Employees who can earn more salary: \", above_threshold)"
   ]
  },
  {
   "cell_type": "markdown",
   "id": "2941b1b2",
   "metadata": {},
   "source": [
    "# SETS"
   ]
  },
  {
   "cell_type": "code",
   "execution_count": 73,
   "id": "10339044",
   "metadata": {},
   "outputs": [
    {
     "data": {
      "text/plain": [
       "array([97, 88, 77, 47, 87, 64, 30, 74, 75, 52, 92, 12, 64, 57, 36, 58, 86,\n",
       "       50, 74, 91, 38, 93, 56, 68, 31])"
      ]
     },
     "execution_count": 73,
     "metadata": {},
     "output_type": "execute_result"
    }
   ],
   "source": [
    "#  Creating the sets:\n",
    "\n",
    "num =np.random.randint(10, 100, 25)\n",
    "num"
   ]
  },
  {
   "cell_type": "code",
   "execution_count": 74,
   "id": "8af26660",
   "metadata": {},
   "outputs": [
    {
     "name": "stdout",
     "output_type": "stream",
     "text": [
      "25\n"
     ]
    }
   ],
   "source": [
    "print(len(num))"
   ]
  },
  {
   "cell_type": "code",
   "execution_count": 75,
   "id": "6c29930b",
   "metadata": {},
   "outputs": [
    {
     "name": "stdout",
     "output_type": "stream",
     "text": [
      "<class 'set'>\n",
      "{12, 30, 31, 36, 38, 47, 50, 52, 56, 57, 58, 64, 68, 74, 75, 77, 86, 87, 88, 91, 92, 93, 97}\n"
     ]
    }
   ],
   "source": [
    "#  Creating the set using set()\n",
    "\n",
    "num_set = set(num)\n",
    "print(type(num_set))\n",
    "print(num_set)"
   ]
  },
  {
   "cell_type": "code",
   "execution_count": 76,
   "id": "9323d021",
   "metadata": {},
   "outputs": [
    {
     "name": "stdout",
     "output_type": "stream",
     "text": [
      "{18, 21, 23, 10, 28, 15}\n"
     ]
    }
   ],
   "source": [
    "num_set1 = {18, 23, 10, 18, 28, 28, 15, 18, 21}\n",
    "print(num_set1)"
   ]
  },
  {
   "cell_type": "code",
   "execution_count": 78,
   "id": "bda0c975",
   "metadata": {},
   "outputs": [
    {
     "name": "stdout",
     "output_type": "stream",
     "text": [
      "Length of combined set: 29 and \n",
      "The combined set is {10, 12, 15, 18, 21, 23, 28, 30, 31, 36, 38, 47, 50, 52, 56, 57, 58, 64, 68, 74, 75, 77, 86, 87, 88, 91, 92, 93, 97}\n"
     ]
    }
   ],
   "source": [
    "# Addition of another set in exisiting set using update method:\n",
    "\n",
    "num_set.update(num_set1)\n",
    "print(\"Length of combined set: {} and \\nThe combined set is {}\". format(len(num_set), num_set))"
   ]
  },
  {
   "cell_type": "code",
   "execution_count": 97,
   "id": "428f2a52",
   "metadata": {},
   "outputs": [
    {
     "name": "stdout",
     "output_type": "stream",
     "text": [
      "Set 1:  {10, 11, 12, 18, 22, 23, 27, 30, 39, 43, 46, 58, 64, 66, 68, 69, 70, 76, 78, 84, 95}\n",
      "Set 2:  {14, 18, 19, 20, 22, 26, 28, 29, 30, 32, 34, 35, 36, 39, 40, 42, 45, 46, 48, 49} \n",
      "\n",
      "Length of Set 1:  21\n",
      "Length of Set 2:  20\n"
     ]
    }
   ],
   "source": [
    "## SET OPERATIONS:\n",
    "\n",
    "# Creating two new sets:\n",
    "\n",
    "num_set2 = set(np.random.randint(10, 100, 25))\n",
    "num_set3 = set(np.random.randint(10, 50, 25))\n",
    "\n",
    "print(\"Set 1: \", num_set2)\n",
    "print(\"Set 2: \", num_set3, f\"\\n\")\n",
    "\n",
    "print(\"Length of Set 1: \", len(num_set2))\n",
    "print(\"Length of Set 2: \", len(num_set3))"
   ]
  },
  {
   "cell_type": "code",
   "execution_count": 98,
   "id": "b02706aa",
   "metadata": {},
   "outputs": [
    {
     "name": "stdout",
     "output_type": "stream",
     "text": [
      "Number of elements in combined set:  24\n"
     ]
    }
   ],
   "source": [
    "combined_set = num_set1 | num_set2\n",
    "print(\"Number of elements in combined set: \", len(combined_set))"
   ]
  },
  {
   "cell_type": "code",
   "execution_count": 100,
   "id": "f6ffbeed",
   "metadata": {},
   "outputs": [
    {
     "name": "stdout",
     "output_type": "stream",
     "text": [
      "{64, 66, 68, 69, 70, 10, 11, 12, 76, 78, 15, 18, 84, 21, 22, 23, 27, 28, 30, 95, 39, 43, 46, 58}\n"
     ]
    }
   ],
   "source": [
    "print(num_set1.union(num_set2))"
   ]
  },
  {
   "cell_type": "code",
   "execution_count": 99,
   "id": "f52f30f1",
   "metadata": {},
   "outputs": [
    {
     "data": {
      "text/plain": [
       "{10, 18, 23}"
      ]
     },
     "execution_count": 99,
     "metadata": {},
     "output_type": "execute_result"
    }
   ],
   "source": [
    "# Intersection Operation:\n",
    "\n",
    "common_elements = num_set1 & num_set2\n",
    "common_elements"
   ]
  },
  {
   "cell_type": "code",
   "execution_count": 104,
   "id": "9999e6ed",
   "metadata": {},
   "outputs": [
    {
     "name": "stdout",
     "output_type": "stream",
     "text": [
      "{28, 21, 15}\n",
      "{28, 21, 15}\n"
     ]
    }
   ],
   "source": [
    "# Difference Operation:\n",
    "\n",
    "difference_elements = num_set1 - num_set2\n",
    "print(difference_elements)\n",
    "\n",
    "print(num_set1.difference(num_set2))"
   ]
  },
  {
   "cell_type": "markdown",
   "id": "9394998f",
   "metadata": {},
   "source": [
    "Extra Exercise of Strings:"
   ]
  },
  {
   "cell_type": "code",
   "execution_count": 142,
   "id": "e63b28a6",
   "metadata": {},
   "outputs": [
    {
     "data": {
      "text/plain": [
       "'21-Jan-2023'"
      ]
     },
     "execution_count": 142,
     "metadata": {},
     "output_type": "execute_result"
    }
   ],
   "source": [
    "date = '21', 'Jan', '2023'\n",
    "# Join method will help to join the elements:\n",
    "'-'.join(date)"
   ]
  },
  {
   "cell_type": "code",
   "execution_count": 147,
   "id": "d445557b",
   "metadata": {},
   "outputs": [
    {
     "name": "stdout",
     "output_type": "stream",
     "text": [
      "Indranil-Bokachoda\n",
      "\n",
      "First Name: Indranil, Last Name: Bokachoda\n"
     ]
    }
   ],
   "source": [
    "str1 = \"Indranil-Bokachoda\"\n",
    "firstname, lastname = str1.split('-')\n",
    "print(str1)\n",
    "\n",
    "print(\"\\nFirst Name: {}, Last Name: {}\".format(firstname,lastname))"
   ]
  },
  {
   "cell_type": "code",
   "execution_count": 159,
   "id": "517edc68",
   "metadata": {},
   "outputs": [
    {
     "name": "stdout",
     "output_type": "stream",
     "text": [
      "!\"#$%&'()*+,-./:;<=>?@[\\]^_`{|}~\n"
     ]
    },
    {
     "data": {
      "text/plain": [
       "26"
      ]
     },
     "execution_count": 159,
     "metadata": {},
     "output_type": "execute_result"
    }
   ],
   "source": [
    "sen = \"I love using cars for long drive# ! ~ ) &\"\n",
    "import string\n",
    "print(string.punctuation)\n",
    "\n",
    "len([ltr for ltr in sen if ltr not in string.punctuation + ' '])"
   ]
  },
  {
   "cell_type": "code",
   "execution_count": 160,
   "id": "e9915a3e",
   "metadata": {},
   "outputs": [
    {
     "data": {
      "text/plain": [
       "26"
      ]
     },
     "execution_count": 160,
     "metadata": {},
     "output_type": "execute_result"
    }
   ],
   "source": [
    "len([ltr for ltr in sen if ltr.isalpha()])"
   ]
  },
  {
   "cell_type": "code",
   "execution_count": null,
   "id": "15e934d3",
   "metadata": {},
   "outputs": [],
   "source": []
  },
  {
   "cell_type": "code",
   "execution_count": null,
   "id": "a74fd822",
   "metadata": {},
   "outputs": [],
   "source": []
  },
  {
   "cell_type": "markdown",
   "id": "94b1a775",
   "metadata": {},
   "source": [
    "# HANDS ON EXERCISE:"
   ]
  },
  {
   "cell_type": "code",
   "execution_count": 30,
   "id": "2e42bf6c",
   "metadata": {},
   "outputs": [
    {
     "name": "stdout",
     "output_type": "stream",
     "text": [
      "Highest Salary of an employee is: 9000\n",
      "The average salary of an employee is: 7125.0\n",
      "The employees above threshold amount is: ['Max', 'Charlie', 'Alice']\n",
      "The sorted-list is: [('Alice', 9000), ('Bob', 4500), ('Charlie', 6500), ('Max', 8500)]\n"
     ]
    }
   ],
   "source": [
    "# You are provided with a dictionary containing employee names and their corresponding monthly salaries. \n",
    "employees = {\n",
    "    \"Bob\": 4500, \n",
    "    \"Max\": 8500, \n",
    "    \"Charlie\": 6500, \n",
    "    \"Alice\": 9000\n",
    "}\n",
    "\n",
    "# Find and display the highest salary in the company. \n",
    "highest_salary = max(employees.values())\n",
    "print(\"Highest Salary of an employee is:\", highest_salary)\n",
    "\n",
    "# Calculate and print the average salary of all employees. \n",
    "average_salary = sum(employees.values()) / len(employees.values())\n",
    "print(\"The average salary of an employee is:\", average_salary)\n",
    "\n",
    "# Identify and display the names of employees who earn above a certain threshold (e.g., $5000). \n",
    "threshold = 5000\n",
    "above_threshold = [name for name, salary in employees.items() if salary > threshold]\n",
    "print(\"The employees above threshold amount is:\", above_threshold)\n",
    "\n",
    "# Sort and display the employee names in alphabetical order.\n",
    "sorted_employees = sorted(employees.items())\n",
    "print(\"The sorted-list is:\", sorted_employees)"
   ]
  },
  {
   "cell_type": "code",
   "execution_count": null,
   "id": "e962556f",
   "metadata": {},
   "outputs": [],
   "source": []
  },
  {
   "cell_type": "code",
   "execution_count": 144,
   "id": "fe89d37e",
   "metadata": {},
   "outputs": [
    {
     "name": "stdout",
     "output_type": "stream",
     "text": [
      "\n",
      "CS Students List: {'CS_1114', 'CS_1392', 'CS_1684', 'CS_1270', 'CS_1644', 'CS_1653', 'CS_1295', 'CS_1294', 'CS_1562'}\n",
      "\n",
      "Maths Students List: {'M_1360', 'M_1221', 'M_1930', 'M_1186', 'M_1741', 'M_1021', 'M_1857', 'M_1241', 'M_1310', 'M_1491'}\n",
      "\n",
      "New Student List: {'M_1360', 'M_1930', 'M_1186', 'CS_1644', 'M_1741', 'M_1857', 'M_1241', 'CS_1295', 'CS_1294', 'CS_1562', 'M_1221', 'CS_1114', 'CS_1392', 'CS_1684', 'CS_1270', 'M_1021', 'CS_1653', 'M_1310', 'M_1491'}\n",
      "\n",
      "Combined Students List: {'M_1360', 'M_1930', 'M_1186', 'CS_1644', 'M_1741', 'M_1857', 'M_1241', 'CS_1295', 'CS_1294', 'CS_1562', 'M_1221', 'CS_1114', 'CS_1392', 'CS_1684', 'CS_1270', 'M_1021', 'CS_1653', 'M_1310', 'M_1491'}\n",
      "\n",
      "CS Student list after adding N_1249: {'M_1360', 'N-1249', 'M_1930', 'M_1186', 'CS_1644', 'M_1741', 'M_1857', 'M_1241', 'CS_1295', 'CS_1294', 'CS_1562', 'M_1221', 'CS_1114', 'CS_1392', 'CS_1684', 'CS_1270', 'M_1021', 'CS_1653', 'M_1310', 'M_1491'}\n",
      "\n",
      "CS Students List after removing CS_1483: {'M_1360', 'N-1249', 'M_1930', 'M_1186', 'CS_1644', 'M_1741', 'M_1857', 'M_1241', 'CS_1295', 'CS_1294', 'CS_1562', 'M_1221', 'CS_1114', 'CS_1392', 'CS_1684', 'CS_1270', 'M_1021', 'CS_1653', 'M_1310', 'M_1491'}\n",
      "\n",
      "CS Students List after Discarding M_1896: {'M_1360', 'N-1249', 'M_1930', 'M_1186', 'CS_1644', 'M_1741', 'M_1857', 'M_1241', 'CS_1295', 'CS_1294', 'CS_1562', 'M_1221', 'CS_1114', 'CS_1392', 'CS_1684', 'CS_1270', 'M_1021', 'CS_1653', 'M_1310', 'M_1491'}\n",
      "\n",
      "CS Students List after Clearing: set()\n"
     ]
    }
   ],
   "source": [
    "# You have a set representing students enrolled in a Computer Science course. \n",
    "\n",
    "cs_students = set(['CS_'+str(num) for num in np.random.randint(1000, 2000, 10)])\n",
    "maths_student = set(['M_'+str(num) for num in np.random.randint(1000, 2000, 10)])\n",
    "print(\"\\nCS Students List:\", cs_students)\n",
    "print(\"\\nMaths Students List:\", maths_student)\n",
    "\n",
    "# Update the set with students from the Mathematics course.\n",
    "cs_students.update(maths_student)\n",
    "print(\"\\nNew Student List:\", cs_students)\n",
    "\n",
    "# Create a copy of the set. \n",
    "combined_students = cs_students.copy()\n",
    "print(\"\\nCombined Students List:\", combined_students)\n",
    "\n",
    "# Add a new student who just joined the course. \n",
    "cs_students.add('N-1249')\n",
    "print(\"\\nCS Student list after adding N_1249:\", cs_students)\n",
    "\n",
    "# Remove a student who dropped the course (handle the case where the student is not in the set). \n",
    "cs_students.discard('CS_1483')\n",
    "print(\"\\nCS Students List after removing CS_1483:\", cs_students)\n",
    "\n",
    "# Discard a student who is not actively participating (no error if the student is not present). \n",
    "cs_students.discard('M_1896')\n",
    "print(\"\\nCS Students List after Discarding M_1896:\", cs_students)\n",
    "\n",
    "# Clear all students from the set.\n",
    "cs_students.clear()\n",
    "print(\"\\nCS Students List after Clearing:\", cs_students)"
   ]
  },
  {
   "cell_type": "code",
   "execution_count": null,
   "id": "9888e2bd",
   "metadata": {},
   "outputs": [],
   "source": []
  }
 ],
 "metadata": {
  "kernelspec": {
   "display_name": "Python 3 (ipykernel)",
   "language": "python",
   "name": "python3"
  },
  "language_info": {
   "codemirror_mode": {
    "name": "ipython",
    "version": 3
   },
   "file_extension": ".py",
   "mimetype": "text/x-python",
   "name": "python",
   "nbconvert_exporter": "python",
   "pygments_lexer": "ipython3",
   "version": "3.11.5"
  }
 },
 "nbformat": 4,
 "nbformat_minor": 5
}
