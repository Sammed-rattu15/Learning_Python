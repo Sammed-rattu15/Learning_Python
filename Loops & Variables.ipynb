{
 "cells": [
  {
   "cell_type": "markdown",
   "id": "b4b022c5",
   "metadata": {},
   "source": [
    "### Loops and Variables"
   ]
  },
  {
   "cell_type": "code",
   "execution_count": 1,
   "id": "8ce8bb49",
   "metadata": {},
   "outputs": [
    {
     "name": "stdout",
     "output_type": "stream",
     "text": [
      "The above statement is true\n"
     ]
    }
   ],
   "source": [
    "a = 4\n",
    "if a>0:\n",
    "    print(\"The above statement is true\")"
   ]
  },
  {
   "cell_type": "code",
   "execution_count": 16,
   "id": "02607e5f",
   "metadata": {},
   "outputs": [
    {
     "name": "stdout",
     "output_type": "stream",
     "text": [
      "21\n",
      "They are eligible to vote\n"
     ]
    }
   ],
   "source": [
    "# Finding the eligibility to vote\n",
    "age = int(input())\n",
    "if age >= 18:\n",
    "    print(\"They are eligible to vote\")\n",
    "else:\n",
    "    print(\"They are not eligible to vote\")"
   ]
  },
  {
   "cell_type": "code",
   "execution_count": 15,
   "id": "789a5e38",
   "metadata": {},
   "outputs": [
    {
     "name": "stdout",
     "output_type": "stream",
     "text": [
      "20\n",
      "He failed in exam\n"
     ]
    }
   ],
   "source": [
    "# Student grades: \n",
    "a = int(input())\n",
    "if (a>=80):\n",
    "    print(\"He got an A\")\n",
    "elif (a>=65):\n",
    "    print(\"He got an B+\")\n",
    "elif (a>=50):\n",
    "    print(\"He got an C\")\n",
    "else:\n",
    "    print(\"He failed in exam\")"
   ]
  },
  {
   "cell_type": "code",
   "execution_count": 7,
   "id": "0a593a21",
   "metadata": {},
   "outputs": [
    {
     "name": "stdout",
     "output_type": "stream",
     "text": [
      "Please enter your age:24\n",
      "You will be 25 years old next year\n"
     ]
    }
   ],
   "source": [
    "age_str = input(\"Please enter your age:\")\n",
    "age = int(age_str)\n",
    "print(\"You will be\" + \" \" + str(age+1) + \" \" + \"years old next year\")"
   ]
  },
  {
   "cell_type": "code",
   "execution_count": 12,
   "id": "9005d669",
   "metadata": {},
   "outputs": [
    {
     "name": "stdout",
     "output_type": "stream",
     "text": [
      "what is your favourate colour?red\n",
      "Your Favourate colour is red.\n"
     ]
    }
   ],
   "source": [
    "user_colour = input(\"what is your favourate colour?\")\n",
    "print(f\"Your Favourate colour is {user_colour}.\")"
   ]
  },
  {
   "cell_type": "code",
   "execution_count": 13,
   "id": "afd90554",
   "metadata": {},
   "outputs": [
    {
     "name": "stdout",
     "output_type": "stream",
     "text": [
      "apple\n",
      "bannana\n",
      "cherry\n"
     ]
    }
   ],
   "source": [
    "# For loop statement\n",
    "fruits = [\"apple\", \"bannana\", \"cherry\"]\n",
    "for fruit in fruits:\n",
    "    print(fruit)"
   ]
  },
  {
   "cell_type": "code",
   "execution_count": 14,
   "id": "dcf30bab",
   "metadata": {},
   "outputs": [
    {
     "name": "stdout",
     "output_type": "stream",
     "text": [
      "0\n",
      "1\n",
      "2\n"
     ]
    }
   ],
   "source": [
    "# Loop statement\n",
    "\n",
    "# Break statement\n",
    "for i in range(5):\n",
    "    if i == 3:\n",
    "        break\n",
    "    else:\n",
    "        print(i)"
   ]
  },
  {
   "cell_type": "code",
   "execution_count": 15,
   "id": "21948e22",
   "metadata": {},
   "outputs": [
    {
     "name": "stdout",
     "output_type": "stream",
     "text": [
      "0\n",
      "1\n",
      "3\n",
      "4\n"
     ]
    }
   ],
   "source": [
    "# Continue Statement\n",
    "for i in range(5):\n",
    "    if i == 2:\n",
    "        continue\n",
    "    else:\n",
    "        print(i)"
   ]
  },
  {
   "cell_type": "code",
   "execution_count": 16,
   "id": "b90ecdfd",
   "metadata": {},
   "outputs": [
    {
     "name": "stdout",
     "output_type": "stream",
     "text": [
      "0\n",
      "1\n",
      "3\n",
      "4\n"
     ]
    }
   ],
   "source": [
    "# Pass Statement \n",
    "for i in range(5):\n",
    "    if i == 2:\n",
    "        pass\n",
    "    else:\n",
    "        print(i)"
   ]
  },
  {
   "cell_type": "code",
   "execution_count": 18,
   "id": "4ff2205b",
   "metadata": {},
   "outputs": [
    {
     "name": "stdout",
     "output_type": "stream",
     "text": [
      "reversed_string nohtyP\n"
     ]
    }
   ],
   "source": [
    "input_str = \"Python\"\n",
    "reversed_str = \"\"\n",
    "for chr in input_str:\n",
    "    reversed_str = chr + reversed_str\n",
    "print(\"reversed_string\", reversed_str)"
   ]
  },
  {
   "cell_type": "code",
   "execution_count": 19,
   "id": "eac4b2e8",
   "metadata": {},
   "outputs": [
    {
     "name": "stdout",
     "output_type": "stream",
     "text": [
      "reversed_string nohtyP\n"
     ]
    }
   ],
   "source": [
    "input_str = \"Python\"\n",
    "reversed_str = \"\"\n",
    "for chr in input_str:\n",
    "    reversed_str = chr + reversed_str\n",
    "print(\"reversed_string\", reversed_str)"
   ]
  },
  {
   "cell_type": "code",
   "execution_count": null,
   "id": "22763905",
   "metadata": {},
   "outputs": [],
   "source": [
    "#File handling\n"
   ]
  },
  {
   "cell_type": "code",
   "execution_count": null,
   "id": "449bb4a8",
   "metadata": {
    "scrolled": true
   },
   "outputs": [],
   "source": [
    "help(bool)"
   ]
  },
  {
   "cell_type": "code",
   "execution_count": 20,
   "id": "80a6afdf",
   "metadata": {},
   "outputs": [
    {
     "name": "stdout",
     "output_type": "stream",
     "text": [
      "9\n"
     ]
    }
   ],
   "source": [
    "# User defined Function\n",
    "\n",
    "def square(x):\n",
    "    \"\"\"this function calculates the square of the number.\"\"\" #Docstring\n",
    "    result = x**2\n",
    "    return result\n",
    "# Callingthe function\n",
    "result = square(3)\n",
    "print(result)"
   ]
  },
  {
   "cell_type": "code",
   "execution_count": 21,
   "id": "2448538c",
   "metadata": {},
   "outputs": [
    {
     "name": "stdout",
     "output_type": "stream",
     "text": [
      "Hello, Alice!\n"
     ]
    }
   ],
   "source": [
    "def greet(name):\n",
    "    print(f\"Hello, {name}!\")\n",
    "\n",
    "# Calling the function\n",
    "greet(\"Alice\")"
   ]
  },
  {
   "cell_type": "code",
   "execution_count": 22,
   "id": "05ae09aa",
   "metadata": {},
   "outputs": [
    {
     "ename": "SyntaxError",
     "evalue": "incomplete input (2984013277.py, line 5)",
     "output_type": "error",
     "traceback": [
      "\u001b[1;36m  Cell \u001b[1;32mIn[22], line 5\u001b[1;36m\u001b[0m\n\u001b[1;33m    for num in args:\u001b[0m\n\u001b[1;37m                    ^\u001b[0m\n\u001b[1;31mSyntaxError\u001b[0m\u001b[1;31m:\u001b[0m incomplete input\n"
     ]
    }
   ],
   "source": [
    "# Variable-length arguments(*args & **kwargs) **kwargs is like a dictionary function\n",
    "\n",
    "def add(*args):\n",
    "    result = 0\n",
    "    for num in args:"
   ]
  },
  {
   "cell_type": "code",
   "execution_count": 23,
   "id": "43bd4a45",
   "metadata": {},
   "outputs": [
    {
     "name": "stdout",
     "output_type": "stream",
     "text": [
      "15\n"
     ]
    }
   ],
   "source": [
    "def outer_function(x):\n",
    "    def inner_function(y):\n",
    "        return x + y\n",
    "    return inner_function\n",
    "\n",
    "closure = outer_function(10)\n",
    "result = closure(5)\n",
    "print(result)"
   ]
  },
  {
   "cell_type": "code",
   "execution_count": 24,
   "id": "ae84c744",
   "metadata": {},
   "outputs": [
    {
     "name": "stdout",
     "output_type": "stream",
     "text": [
      "8\n"
     ]
    }
   ],
   "source": [
    "# Lambda Functions\n",
    "\n",
    "add = lambda x,y: x+y\n",
    "print(add(5,3))"
   ]
  },
  {
   "cell_type": "code",
   "execution_count": 25,
   "id": "3193a189",
   "metadata": {},
   "outputs": [
    {
     "name": "stdout",
     "output_type": "stream",
     "text": [
      "16\n"
     ]
    }
   ],
   "source": [
    "square = lambda x: x**2\n",
    "print(square(4))"
   ]
  },
  {
   "cell_type": "code",
   "execution_count": 26,
   "id": "3eec4979",
   "metadata": {},
   "outputs": [
    {
     "name": "stdout",
     "output_type": "stream",
     "text": [
      "[1, 4, 9, 16, 25]\n",
      "[2, 4, 6, 8, 10]\n"
     ]
    }
   ],
   "source": [
    "#map() functions\n",
    "\n",
    "numbers =[1,2,3,4,5]\n",
    "squared_numbers = list(map(lambda x: x**2, numbers))\n",
    "print(squared_numbers)\n",
    "\n",
    "#filter() function\n",
    "numbers =[1,2,3,4,5,6,7,8,9,10]\n",
    "even_numbers = list(filter(lambda x: x%2==0, numbers))\n",
    "print(even_numbers)\n",
    "\n",
    "#sorted() function\n"
   ]
  },
  {
   "cell_type": "code",
   "execution_count": 27,
   "id": "9c010937",
   "metadata": {},
   "outputs": [
    {
     "name": "stdout",
     "output_type": "stream",
     "text": [
      "Error: Division by zero.\n",
      "this will always execute.\n"
     ]
    }
   ],
   "source": [
    "try:\n",
    "    result = 10/0\n",
    "except ZeroDivisionError:\n",
    "    print(\"Error: Division by zero.\")\n",
    "finally:\n",
    "    print(\"this will always execute.\")"
   ]
  },
  {
   "cell_type": "code",
   "execution_count": 28,
   "id": "ab839200",
   "metadata": {},
   "outputs": [
    {
     "name": "stdout",
     "output_type": "stream",
     "text": [
      "Enter an integer:2\n",
      "User entered:2\n",
      "Execution Completed.\n"
     ]
    }
   ],
   "source": [
    "def get_user_input():\n",
    "    try:\n",
    "        user_input = int(input(\"Enter an integer:\"))\n",
    "        print(f\"User entered:{user_input}\")\n",
    "    except ValueError:\n",
    "        print(\"Error: Invalid input. Please enter an integer.\")\n",
    "    finally:\n",
    "        print(\"Execution Completed.\")\n",
    "#Test function\n",
    "get_user_input()"
   ]
  },
  {
   "cell_type": "code",
   "execution_count": 3,
   "id": "d690225b",
   "metadata": {},
   "outputs": [
    {
     "name": "stdout",
     "output_type": "stream",
     "text": [
      "Enter your username: 99\n",
      "Enter your password: 532\n",
      "Login Unsuccesful\n"
     ]
    }
   ],
   "source": [
    "# You are developing a web application and want to implement user authentication. How can you use functions to handle user login and validation?\n",
    "\n",
    "def login(user, password):\n",
    "        if user == \"Sammed\" and password == \"12345678\":\n",
    "            return True\n",
    "        else:\n",
    "            return False\n",
    "\n",
    "# Example\n",
    "user_input = input(\"Enter your username: \")\n",
    "password_input = input(\"Enter your password: \")\n",
    "\n",
    "if login(user_input, password_input):\n",
    "    print(\"Login Succesful\")\n",
    "else:\n",
    "    print(\"Login Failed.\")"
   ]
  },
  {
   "cell_type": "code",
   "execution_count": null,
   "id": "e5ce6cec",
   "metadata": {},
   "outputs": [],
   "source": []
  }
 ],
 "metadata": {
  "kernelspec": {
   "display_name": "Python 3 (ipykernel)",
   "language": "python",
   "name": "python3"
  },
  "language_info": {
   "codemirror_mode": {
    "name": "ipython",
    "version": 3
   },
   "file_extension": ".py",
   "mimetype": "text/x-python",
   "name": "python",
   "nbconvert_exporter": "python",
   "pygments_lexer": "ipython3",
   "version": "3.11.5"
  }
 },
 "nbformat": 4,
 "nbformat_minor": 5
}
