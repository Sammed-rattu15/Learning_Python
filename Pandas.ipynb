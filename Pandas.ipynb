{
 "cells": [
  {
   "cell_type": "markdown",
   "id": "27e42b71",
   "metadata": {},
   "source": [
    "### Pandas"
   ]
  },
  {
   "cell_type": "code",
   "execution_count": 1,
   "id": "73c65b9d",
   "metadata": {},
   "outputs": [],
   "source": [
    "# Pandas designed for data visualization and analysis:\n",
    "\n",
    "# Offers powerful Data-Frame and series of data structure:\n",
    "\n",
    "# Panda series:\n",
    "# One dimention array-like data structure "
   ]
  },
  {
   "cell_type": "code",
   "execution_count": 37,
   "id": "43d98a95",
   "metadata": {},
   "outputs": [],
   "source": [
    "# Creating a Pandas Series:\n",
    "\n",
    "import pandas as pd\n",
    "import numpy as np"
   ]
  },
  {
   "cell_type": "code",
   "execution_count": 38,
   "id": "30628666",
   "metadata": {},
   "outputs": [
    {
     "name": "stdout",
     "output_type": "stream",
     "text": [
      "<class 'numpy.ndarray'>\n",
      "[75 24 41 31 34 30 51 77 83 73]\n"
     ]
    }
   ],
   "source": [
    "l1 = np.random.randint(10,90,10)\n",
    "print(type(l1))\n",
    "print(l1)"
   ]
  },
  {
   "cell_type": "code",
   "execution_count": 39,
   "id": "f85b8d43",
   "metadata": {},
   "outputs": [
    {
     "name": "stdout",
     "output_type": "stream",
     "text": [
      "Pandas Series from an array:\n",
      " 0    75\n",
      "1    24\n",
      "2    41\n",
      "3    31\n",
      "4    34\n",
      "5    30\n",
      "6    51\n",
      "7    77\n",
      "8    83\n",
      "9    73\n",
      "dtype: int32\n",
      "pandas Series Index:  RangeIndex(start=0, stop=10, step=1)\n"
     ]
    }
   ],
   "source": [
    "# Creating a panda series\n",
    "s1 = pd.Series(l1)\n",
    "print(\"Pandas Series from an array:\\n\",s1)\n",
    "print(\"pandas Series Index: \", s1.index)"
   ]
  },
  {
   "cell_type": "code",
   "execution_count": 40,
   "id": "37041cc3",
   "metadata": {},
   "outputs": [
    {
     "data": {
      "text/plain": [
       "30"
      ]
     },
     "execution_count": 40,
     "metadata": {},
     "output_type": "execute_result"
    }
   ],
   "source": [
    "s1[5]"
   ]
  },
  {
   "cell_type": "code",
   "execution_count": 41,
   "id": "162b4ec5",
   "metadata": {},
   "outputs": [
    {
     "data": {
      "text/plain": [
       "0    75\n",
       "3    31\n",
       "5    30\n",
       "dtype: int32"
      ]
     },
     "execution_count": 41,
     "metadata": {},
     "output_type": "execute_result"
    }
   ],
   "source": [
    "s1[[0,3,5]]"
   ]
  },
  {
   "cell_type": "code",
   "execution_count": 42,
   "id": "0d305461",
   "metadata": {},
   "outputs": [
    {
     "name": "stdout",
     "output_type": "stream",
     "text": [
      "0    75\n",
      "1    24\n",
      "2    41\n",
      "3    31\n",
      "4    34\n",
      "dtype: int32 \n",
      "\n",
      "2    41\n",
      "3    31\n",
      "4    34\n",
      "5    30\n",
      "6    51\n",
      "7    77\n",
      "dtype: int32\n"
     ]
    }
   ],
   "source": [
    "print(s1[:5],\"\\n\")    # Using range operation\n",
    "print(s1[2:8])"
   ]
  },
  {
   "cell_type": "code",
   "execution_count": 43,
   "id": "06f99a2d",
   "metadata": {},
   "outputs": [
    {
     "name": "stdout",
     "output_type": "stream",
     "text": [
      "10\n"
     ]
    }
   ],
   "source": [
    "print(len(s1))"
   ]
  },
  {
   "cell_type": "code",
   "execution_count": 44,
   "id": "d8a39aa3",
   "metadata": {},
   "outputs": [
    {
     "data": {
      "text/plain": [
       "0    75\n",
       "6    51\n",
       "7    77\n",
       "8    83\n",
       "9    73\n",
       "dtype: int32"
      ]
     },
     "execution_count": 44,
     "metadata": {},
     "output_type": "execute_result"
    }
   ],
   "source": [
    "s1[s1>50]    # Subsetting elements using conditions"
   ]
  },
  {
   "cell_type": "code",
   "execution_count": 45,
   "id": "a4bd3d05",
   "metadata": {},
   "outputs": [
    {
     "data": {
      "text/plain": [
       "0    75\n",
       "6    51\n",
       "7    77\n",
       "8    83\n",
       "9    73\n",
       "dtype: int32"
      ]
     },
     "execution_count": 45,
     "metadata": {},
     "output_type": "execute_result"
    }
   ],
   "source": [
    "s1[(s1<20) | (s1>50)]"
   ]
  },
  {
   "cell_type": "code",
   "execution_count": 46,
   "id": "4b16e581",
   "metadata": {},
   "outputs": [
    {
     "data": {
      "text/plain": [
       "24"
      ]
     },
     "execution_count": 46,
     "metadata": {},
     "output_type": "execute_result"
    }
   ],
   "source": [
    "s1.min()   # Finding the minimum value"
   ]
  },
  {
   "cell_type": "code",
   "execution_count": 47,
   "id": "900ffdef",
   "metadata": {},
   "outputs": [
    {
     "data": {
      "text/plain": [
       "51.9"
      ]
     },
     "execution_count": 47,
     "metadata": {},
     "output_type": "execute_result"
    }
   ],
   "source": [
    "s1.mean()    # Finding the average value"
   ]
  },
  {
   "cell_type": "code",
   "execution_count": 48,
   "id": "e4662c32",
   "metadata": {},
   "outputs": [
    {
     "name": "stdout",
     "output_type": "stream",
     "text": [
      "Min: 24, Max: 83, Average: 51.9, STD: 22.88\n"
     ]
    }
   ],
   "source": [
    "print(\"Min: {}, Max: {}, Average: {}, STD: {}\".format(s1.min(), s1.max(), s1.mean(), np.round(s1.std(), 2)))"
   ]
  },
  {
   "cell_type": "code",
   "execution_count": 52,
   "id": "643b45df",
   "metadata": {},
   "outputs": [
    {
     "data": {
      "text/plain": [
       "(0    False\n",
       " 1    False\n",
       " 2    False\n",
       " 3    False\n",
       " 4    False\n",
       " 5    False\n",
       " 6    False\n",
       " 7    False\n",
       " 8    False\n",
       " 9    False\n",
       " dtype: bool,\n",
       " 0)"
      ]
     },
     "execution_count": 52,
     "metadata": {},
     "output_type": "execute_result"
    }
   ],
   "source": [
    "# Finding the missing value count\n",
    "s1.isna(), s1.isnull().sum()"
   ]
  },
  {
   "cell_type": "code",
   "execution_count": 51,
   "id": "61f76e27",
   "metadata": {},
   "outputs": [
    {
     "data": {
      "text/plain": [
       "51.9"
      ]
     },
     "execution_count": 51,
     "metadata": {},
     "output_type": "execute_result"
    }
   ],
   "source": [
    "s1.mean()"
   ]
  },
  {
   "cell_type": "code",
   "execution_count": 119,
   "id": "51501033",
   "metadata": {},
   "outputs": [
    {
     "data": {
      "text/plain": [
       "Series([], dtype: int32)"
      ]
     },
     "execution_count": 119,
     "metadata": {},
     "output_type": "execute_result"
    }
   ],
   "source": [
    "# Replacing all the missing values with the average of the series:\n",
    "\n",
    "my_idx = s1[s1.isna()].index \n",
    "s1[my_idx] = s1.median()\n",
    "s1[my_idx]"
   ]
  },
  {
   "cell_type": "code",
   "execution_count": null,
   "id": "27cd877e",
   "metadata": {},
   "outputs": [],
   "source": []
  },
  {
   "cell_type": "code",
   "execution_count": null,
   "id": "9a359f59",
   "metadata": {},
   "outputs": [],
   "source": []
  },
  {
   "cell_type": "code",
   "execution_count": 120,
   "id": "0a850225",
   "metadata": {},
   "outputs": [
    {
     "name": "stdout",
     "output_type": "stream",
     "text": [
      "0    10\n",
      "1    15\n",
      "2    12\n",
      "3    16\n",
      "4    21\n",
      "dtype: int64\n",
      "0    (10, 20, 30, 40, 50, 60, 70, 80, 90)\n",
      "dtype: object\n"
     ]
    }
   ],
   "source": [
    "s2 = pd.Series([10,15,12,16,21])\n",
    "print(s2)\n",
    "\n",
    "s3 = pd.Series([range(10,100,10)]) \n",
    "print(s3)"
   ]
  },
  {
   "cell_type": "code",
   "execution_count": 121,
   "id": "eea4b361",
   "metadata": {},
   "outputs": [
    {
     "name": "stdout",
     "output_type": "stream",
     "text": [
      "0    15000\n",
      "2    25000\n",
      "4    45000\n",
      "6    24000\n",
      "8    34000\n",
      "dtype: int32\n"
     ]
    }
   ],
   "source": [
    "# Creating a series\n",
    "\n",
    "salary = pd.Series(np.array([15000,25000,45000,24000,34000]), index = np.arange(0,10,2))\n",
    "print(salary)"
   ]
  },
  {
   "cell_type": "markdown",
   "id": "36136c64",
   "metadata": {},
   "source": [
    "### Custom indexing:"
   ]
  },
  {
   "cell_type": "code",
   "execution_count": 133,
   "id": "86f12978",
   "metadata": {},
   "outputs": [
    {
     "data": {
      "text/plain": [
       "N0    68576\n",
       "N1    63230\n",
       "N2    60776\n",
       "N3    46397\n",
       "N4    75364\n",
       "N5    86077\n",
       "N6    23429\n",
       "N7    11915\n",
       "N8    30644\n",
       "N9    77236\n",
       "dtype: int32"
      ]
     },
     "execution_count": 133,
     "metadata": {},
     "output_type": "execute_result"
    }
   ],
   "source": [
    "# Custom indexing:\n",
    "\n",
    "sal_ind = pd.Series(np.random.randint(10000,100000, 10), index = ['N'+ str(i) for i in np.arange(10)])\n",
    "sal_ind"
   ]
  },
  {
   "cell_type": "code",
   "execution_count": 134,
   "id": "ceeb6c37",
   "metadata": {},
   "outputs": [
    {
     "data": {
      "text/plain": [
       "N7    11915\n",
       "N6    23429\n",
       "N8    30644\n",
       "N3    46397\n",
       "N2    60776\n",
       "N1    63230\n",
       "N0    68576\n",
       "N4    75364\n",
       "N9    77236\n",
       "N5    86077\n",
       "dtype: int32"
      ]
     },
     "execution_count": 134,
     "metadata": {},
     "output_type": "execute_result"
    }
   ],
   "source": [
    "sal = sal_ind.sort_values()\n",
    "sal"
   ]
  },
  {
   "cell_type": "code",
   "execution_count": 135,
   "id": "5b1838be",
   "metadata": {},
   "outputs": [
    {
     "data": {
      "text/plain": [
       "N7    1192.0\n",
       "N6    2343.0\n",
       "N8    3064.0\n",
       "N3    4640.0\n",
       "N2    6078.0\n",
       "N1    6323.0\n",
       "N0    6858.0\n",
       "N4    7536.0\n",
       "N9    7724.0\n",
       "N5    8608.0\n",
       "dtype: float64"
      ]
     },
     "execution_count": 135,
     "metadata": {},
     "output_type": "execute_result"
    }
   ],
   "source": [
    "sal_bonus = np.round(sal * .10)\n",
    "sal_bonus"
   ]
  },
  {
   "cell_type": "code",
   "execution_count": 136,
   "id": "173920e5",
   "metadata": {},
   "outputs": [
    {
     "data": {
      "text/plain": [
       "N7    13107.0\n",
       "N6    25772.0\n",
       "N8    33708.0\n",
       "N3    51037.0\n",
       "N2    66854.0\n",
       "N1    69553.0\n",
       "N0    75434.0\n",
       "N4    82900.0\n",
       "N9    84960.0\n",
       "N5    94685.0\n",
       "dtype: float64"
      ]
     },
     "execution_count": 136,
     "metadata": {},
     "output_type": "execute_result"
    }
   ],
   "source": [
    "# Salary after incerment(Bonus of 10%)\n",
    "incl_sal = sal + sal_bonus\n",
    "\n",
    "incl_sal.sort_values()"
   ]
  },
  {
   "cell_type": "code",
   "execution_count": 137,
   "id": "3cf541df",
   "metadata": {},
   "outputs": [],
   "source": [
    "salaries = sal_ind.copy(deep = True)"
   ]
  },
  {
   "cell_type": "code",
   "execution_count": 138,
   "id": "3defd0dc",
   "metadata": {},
   "outputs": [
    {
     "data": {
      "text/plain": [
       "N7    11915\n",
       "N6    23429\n",
       "N8    30644\n",
       "N3    46397\n",
       "N2    60776\n",
       "N1    63230\n",
       "N0    68576\n",
       "N4    75364\n",
       "N9    77236\n",
       "N5    86077\n",
       "dtype: int32"
      ]
     },
     "execution_count": 138,
     "metadata": {},
     "output_type": "execute_result"
    }
   ],
   "source": [
    "salaries.sort_values()"
   ]
  },
  {
   "cell_type": "code",
   "execution_count": 139,
   "id": "6b294d2a",
   "metadata": {},
   "outputs": [
    {
     "data": {
      "text/plain": [
       "N0    72000.0\n",
       "N1    66400.0\n",
       "N2    63800.0\n",
       "N4    79100.0\n",
       "N5    90400.0\n",
       "N9    81100.0\n",
       "dtype: float64"
      ]
     },
     "execution_count": 139,
     "metadata": {},
     "output_type": "execute_result"
    }
   ],
   "source": [
    "np.round(salaries[salaries>=50000]*1.05, -2)"
   ]
  },
  {
   "cell_type": "code",
   "execution_count": 140,
   "id": "7c9a2cf3",
   "metadata": {},
   "outputs": [
    {
     "data": {
      "text/plain": [
       "N3    51000.0\n",
       "N6    25800.0\n",
       "N7    13100.0\n",
       "N8    33700.0\n",
       "dtype: float64"
      ]
     },
     "execution_count": 140,
     "metadata": {},
     "output_type": "execute_result"
    }
   ],
   "source": [
    "np.round(salaries[salaries<50000]*1.1, -2)"
   ]
  },
  {
   "cell_type": "code",
   "execution_count": 141,
   "id": "f7802b2a",
   "metadata": {},
   "outputs": [
    {
     "data": {
      "text/plain": [
       "N0    72000.0\n",
       "N1    66400.0\n",
       "N2    63800.0\n",
       "N4    79100.0\n",
       "N5    90400.0\n",
       "N9    81100.0\n",
       "N3    51000.0\n",
       "N6    25800.0\n",
       "N7    13100.0\n",
       "N8    33700.0\n",
       "dtype: float64"
      ]
     },
     "execution_count": 141,
     "metadata": {},
     "output_type": "execute_result"
    }
   ],
   "source": [
    "new_inc = pd.concat([np.round(salaries[salaries>50000]*1.05,-2), np.round(salaries[salaries<50000]*1.1, -2)])\n",
    "new_inc"
   ]
  },
  {
   "cell_type": "code",
   "execution_count": null,
   "id": "7eb93182",
   "metadata": {},
   "outputs": [],
   "source": []
  },
  {
   "cell_type": "code",
   "execution_count": null,
   "id": "400227a9",
   "metadata": {},
   "outputs": [],
   "source": []
  },
  {
   "cell_type": "code",
   "execution_count": 131,
   "id": "d0d77e8e",
   "metadata": {},
   "outputs": [
    {
     "name": "stdout",
     "output_type": "stream",
     "text": [
      "Anand     450\n",
      "Akshay    292\n",
      "Chetan    435\n",
      "Vikram    298\n",
      "Vivek     478\n",
      "dtype: int64\n"
     ]
    }
   ],
   "source": [
    "# Creating student marks-list:\n",
    "\n",
    "std_marks = pd.Series([450,292,435,298,478],\n",
    "                     index = ['Anand','Akshay','Chetan','Vikram','Vivek'])\n",
    "print(std_marks)"
   ]
  },
  {
   "cell_type": "code",
   "execution_count": 132,
   "id": "4d685eb1",
   "metadata": {},
   "outputs": [
    {
     "data": {
      "text/plain": [
       "Akshay    292\n",
       "Vikram    298\n",
       "Chetan    435\n",
       "Anand     450\n",
       "Vivek     478\n",
       "dtype: int64"
      ]
     },
     "execution_count": 132,
     "metadata": {},
     "output_type": "execute_result"
    }
   ],
   "source": [
    "std_marks.sort_values()"
   ]
  },
  {
   "cell_type": "code",
   "execution_count": null,
   "id": "b236ee42",
   "metadata": {},
   "outputs": [],
   "source": []
  }
 ],
 "metadata": {
  "kernelspec": {
   "display_name": "Python 3 (ipykernel)",
   "language": "python",
   "name": "python3"
  },
  "language_info": {
   "codemirror_mode": {
    "name": "ipython",
    "version": 3
   },
   "file_extension": ".py",
   "mimetype": "text/x-python",
   "name": "python",
   "nbconvert_exporter": "python",
   "pygments_lexer": "ipython3",
   "version": "3.11.5"
  }
 },
 "nbformat": 4,
 "nbformat_minor": 5
}
