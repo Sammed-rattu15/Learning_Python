{
 "cells": [
  {
   "cell_type": "markdown",
   "id": "c032b783",
   "metadata": {},
   "source": [
    "### Numpy"
   ]
  },
  {
   "cell_type": "code",
   "execution_count": 1,
   "id": "994f014e",
   "metadata": {},
   "outputs": [],
   "source": [
    "#  First import the library using the following code:\n",
    "\n",
    "import numpy as np"
   ]
  },
  {
   "cell_type": "code",
   "execution_count": 3,
   "id": "92e06834",
   "metadata": {},
   "outputs": [
    {
     "name": "stdout",
     "output_type": "stream",
     "text": [
      "<class 'list'>\n",
      "[37, 30, 49, 51, 21, 51, 56, 52, 54, 45]\n"
     ]
    }
   ],
   "source": [
    "age_list = list(np.random.randint(20,60,10))\n",
    "print(type(age_list))\n",
    "print(age_list)"
   ]
  },
  {
   "cell_type": "code",
   "execution_count": 6,
   "id": "c4560fc9",
   "metadata": {},
   "outputs": [
    {
     "name": "stdout",
     "output_type": "stream",
     "text": [
      "<class 'numpy.ndarray'>\n",
      "[37 30 49 51 21 51 56 52 54 45]\n",
      "1\n",
      "10\n",
      "(10,)\n"
     ]
    }
   ],
   "source": [
    "# 1D Array\n",
    "\n",
    "age_array = np.array(age_list)\n",
    "print(type(age_array))\n",
    "\n",
    "print(age_array)\n",
    "\n",
    "print(age_array.ndim)  # Provides the dimention of the array\n",
    "print(age_array.size)  # Provides the number of elements in the array\n",
    "print(age_array.shape) # Provides the shape of the array"
   ]
  },
  {
   "cell_type": "code",
   "execution_count": 20,
   "id": "1980a735",
   "metadata": {},
   "outputs": [
    {
     "name": "stdout",
     "output_type": "stream",
     "text": [
      "[[37 30 49 51 21]\n",
      " [51 56 52 54 45]]\n"
     ]
    }
   ],
   "source": [
    "# 2D Array\n",
    "two_array = age_array.reshape(2,5)\n",
    "print(two_array)"
   ]
  },
  {
   "cell_type": "code",
   "execution_count": 9,
   "id": "84539eb2",
   "metadata": {},
   "outputs": [
    {
     "name": "stdout",
     "output_type": "stream",
     "text": [
      "['Python for Data Science' 'Intro to machine learning'\n",
      " 'Intro to deep learning']\n",
      "<class 'numpy.ndarray'>\n",
      "The shape of the array is: (3,)\n"
     ]
    }
   ],
   "source": [
    "books = np.array(['Python for Data Science', 'Intro to machine learning', 'Intro to deep learning'])\n",
    "\n",
    "print(books)\n",
    "print(type(books))\n",
    "print(\"The shape of the array is:\", books.shape)"
   ]
  },
  {
   "cell_type": "markdown",
   "id": "4ce24207",
   "metadata": {},
   "source": [
    "** Random()** is used to create random numbers. It will create the random numbers from [0.0,1.0]"
   ]
  },
  {
   "cell_type": "code",
   "execution_count": 19,
   "id": "8a3fc5df",
   "metadata": {},
   "outputs": [
    {
     "name": "stdout",
     "output_type": "stream",
     "text": [
      "[0.62843018 0.31910745 0.93920798 0.43898874 0.43452794 0.14896797\n",
      " 0.39236323 0.52456794 0.78059676 0.19262666 0.74546192 0.55335213\n",
      " 0.62982587 0.33711049 0.73889103 0.62128994 0.90578229 0.58875456\n",
      " 0.09384136 0.50287687]\n",
      "\n",
      " [[0.66655932 0.35707175 0.44622681 0.14264642]\n",
      " [0.07326907 0.36368847 0.62107155 0.241543  ]\n",
      " [0.91704404 0.38160358 0.56791903 0.72063244]]\n",
      "\n",
      " [[0.62843018 0.31910745 0.93920798]\n",
      " [0.43898874 0.43452794 0.14896797]\n",
      " [0.39236323 0.52456794 0.78059676]\n",
      " [0.19262666 0.74546192 0.55335213]]\n"
     ]
    }
   ],
   "source": [
    "one_rand_nos = np.random.random(size=20)\n",
    "print(one_rand_nos)\n",
    "\n",
    "\n",
    "\n",
    "two_rand_nos = np.random.random(size = (3,4))\n",
    "print(\"\\n\", two_rand_nos)\n",
    "\n",
    "\n",
    "two_rand = one_rand_nos[:12].reshape(4,3)\n",
    "print(\"\\n\", two_rand)"
   ]
  },
  {
   "cell_type": "code",
   "execution_count": 29,
   "id": "9895d47a",
   "metadata": {},
   "outputs": [
    {
     "name": "stdout",
     "output_type": "stream",
     "text": [
      "[[[0.9806049  0.68684923 0.30222219 0.45861507]\n",
      "  [0.7656689  0.66899743 0.51957525 0.6658756 ]\n",
      "  [0.73941997 0.51675016 0.4401825  0.87534507]\n",
      "  [0.18877491 0.12330368 0.43724839 0.36272571]]\n",
      "\n",
      " [[0.82382372 0.1620831  0.06276643 0.07398941]\n",
      "  [0.06787806 0.39239774 0.74251547 0.95666302]\n",
      "  [0.56986208 0.60881914 0.57090983 0.20357907]\n",
      "  [0.31289672 0.98408098 0.09149755 0.78691551]]\n",
      "\n",
      " [[0.0759     0.08478483 0.83651332 0.41023432]\n",
      "  [0.93876831 0.73744962 0.87770044 0.55982613]\n",
      "  [0.79177485 0.76624698 0.19975264 0.18491354]\n",
      "  [0.56223021 0.08168675 0.28862829 0.9284761 ]]]\n"
     ]
    }
   ],
   "source": [
    "# Three Dimentional Array:\n",
    "\n",
    "three_rand_nos = np.random.random(size=(3,4,4))\n",
    "print(three_rand_nos)"
   ]
  },
  {
   "cell_type": "code",
   "execution_count": 32,
   "id": "2217eeb9",
   "metadata": {},
   "outputs": [
    {
     "name": "stdout",
     "output_type": "stream",
     "text": [
      "The size of 3D array: 48\n",
      "\n",
      "The Dimension of 3D array: 3\n",
      "\n",
      "The shape of the array is: (3, 4, 4)\n"
     ]
    }
   ],
   "source": [
    "print(\"The size of 3D array:\", three_rand_nos.size)\n",
    "print(\"\\nThe Dimension of 3D array:\", three_rand_nos.ndim)\n",
    "print(\"\\nThe shape of the array is:\", three_rand_nos.shape)"
   ]
  },
  {
   "cell_type": "code",
   "execution_count": 106,
   "id": "8531a43b",
   "metadata": {},
   "outputs": [
    {
     "data": {
      "text/plain": [
       "array([-15, -13, -12, -11, -12, -12, -15, -16, -19, -20])"
      ]
     },
     "execution_count": 106,
     "metadata": {},
     "output_type": "execute_result"
    }
   ],
   "source": [
    "np.random.randint(-20,-10,10)"
   ]
  },
  {
   "cell_type": "code",
   "execution_count": 36,
   "id": "c095eb7f",
   "metadata": {},
   "outputs": [
    {
     "data": {
      "text/plain": [
       "array([0.37062453, 0.29781758, 0.38039528, 0.96688556, 0.60669103,\n",
       "       0.23057785, 0.04029451, 0.50876995, 0.41554769, 0.3994702 ])"
      ]
     },
     "execution_count": 36,
     "metadata": {},
     "output_type": "execute_result"
    }
   ],
   "source": [
    "np.random.rand(10)"
   ]
  },
  {
   "cell_type": "code",
   "execution_count": 41,
   "id": "85d94c80",
   "metadata": {},
   "outputs": [
    {
     "name": "stdout",
     "output_type": "stream",
     "text": [
      "[ 1  3  5  7  9 11 13 15 17 19 21 23 25 27 29 31 33 35 37 39 41 43 45 47\n",
      " 49 51 53 55 57 59 61 63 65 67 69 71 73 75 77 79 81 83 85 87 89 91 93 95\n",
      " 97 99]\n",
      "\n",
      " [ 0  2  4  6  8 10 12 14 16 18 20 22 24 26 28 30 32 34 36 38 40 42 44 46\n",
      " 48 50 52 54 56 58 60 62 64 66 68 70 72 74 76 78 80 82 84 86 88 90 92 94\n",
      " 96 98]\n"
     ]
    }
   ],
   "source": [
    "odd_nos = np.arange(1,101,2)\n",
    "print(odd_nos)\n",
    "\n",
    "even_nos = np.arange(0,100,2)\n",
    "print(\"\\n\",even_nos)"
   ]
  },
  {
   "cell_type": "code",
   "execution_count": 52,
   "id": "39d925bd",
   "metadata": {},
   "outputs": [
    {
     "name": "stdout",
     "output_type": "stream",
     "text": [
      "[  0.  25.  50.  75. 100.]\n",
      "[  0.          11.11111111  22.22222222  33.33333333  44.44444444\n",
      "  55.55555556  66.66666667  77.77777778  88.88888889 100.        ]\n",
      "[0. 0. 0. 0. 0. 0. 0. 0. 0. 0.]\n",
      "[[0. 0.]\n",
      " [0. 0.]\n",
      " [0. 0.]\n",
      " [0. 0.]\n",
      " [0. 0.]\n",
      " [0. 0.]\n",
      " [0. 0.]\n",
      " [0. 0.]\n",
      " [0. 0.]\n",
      " [0. 0.]] <class 'int'>\n",
      "[1. 1. 1. 1. 1. 1. 1. 1. 1. 1.]\n"
     ]
    }
   ],
   "source": [
    "# Creating evenly spaced numbers using linspace:\n",
    "print(np.linspace(0,100,5))\n",
    "print(np.linspace(0,100,10))\n",
    "\n",
    "\n",
    "# Creating zero array\n",
    "print(np.zeros(10))    # It can be only 1-dimension array.\n",
    "print(np.zeros((10,2)),int)\n",
    "\n",
    "# Creating one array\n",
    "print(np.ones(10))     # It can be only 1-dimension array."
   ]
  },
  {
   "cell_type": "code",
   "execution_count": 53,
   "id": "b398d7fe",
   "metadata": {},
   "outputs": [
    {
     "name": "stdout",
     "output_type": "stream",
     "text": [
      "[[5 5 5 5]\n",
      " [5 5 5 5]\n",
      " [5 5 5 5]]\n"
     ]
    }
   ],
   "source": [
    "# Creating the 3 x 3 matrix\n",
    "\n",
    "print(np.full((3,4), fill_value=5))"
   ]
  },
  {
   "cell_type": "code",
   "execution_count": 54,
   "id": "52fb525c",
   "metadata": {},
   "outputs": [
    {
     "name": "stdout",
     "output_type": "stream",
     "text": [
      "[[1. 0. 0. 0.]\n",
      " [0. 1. 0. 0.]\n",
      " [0. 0. 1. 0.]\n",
      " [0. 0. 0. 1.]]\n"
     ]
    }
   ],
   "source": [
    "# Creating the identity matrix:\n",
    "\n",
    "print(np.identity(4))"
   ]
  },
  {
   "cell_type": "code",
   "execution_count": 58,
   "id": "4dfa92ce",
   "metadata": {},
   "outputs": [
    {
     "data": {
      "text/plain": [
       "array([[1., 0., 0., 0., 0.],\n",
       "       [0., 1., 0., 0., 0.],\n",
       "       [0., 0., 1., 0., 0.],\n",
       "       [0., 0., 0., 1., 0.]])"
      ]
     },
     "execution_count": 58,
     "metadata": {},
     "output_type": "execute_result"
    }
   ],
   "source": [
    "# np.eye (Rows, columns, Identify index):\n",
    "\n",
    "np.eye(4,5,0)    # It will also create the identity matrix with identity in the kth index"
   ]
  },
  {
   "cell_type": "code",
   "execution_count": 59,
   "id": "99c8e089",
   "metadata": {},
   "outputs": [
    {
     "name": "stdout",
     "output_type": "stream",
     "text": [
      "[[92 12 51 37]\n",
      " [54 42 63 78]\n",
      " [14 97 70 78]\n",
      " [49 13 67 46]\n",
      " [70 30 14 93]]\n"
     ]
    }
   ],
   "source": [
    "another_arr = np.random.randint(10,100,20).reshape(5,4)\n",
    "print(another_arr)"
   ]
  },
  {
   "cell_type": "code",
   "execution_count": 62,
   "id": "61bb4d7c",
   "metadata": {},
   "outputs": [
    {
     "data": {
      "text/plain": [
       "array([[92., 12., 51., 37.,  0.],\n",
       "       [54., 42., 63., 78.,  0.],\n",
       "       [14., 97., 70., 78.,  0.],\n",
       "       [49., 13., 67., 46.,  0.],\n",
       "       [70., 30., 14., 93.,  0.]])"
      ]
     },
     "execution_count": 62,
     "metadata": {},
     "output_type": "execute_result"
    }
   ],
   "source": [
    "# Matrix multiplication Matrix\n",
    "\n",
    "another_arr.dot(np.eye(4,5,0))"
   ]
  },
  {
   "cell_type": "code",
   "execution_count": 67,
   "id": "e12d69e3",
   "metadata": {},
   "outputs": [
    {
     "name": "stdout",
     "output_type": "stream",
     "text": [
      "[[1 3]\n",
      " [5 7]] \n",
      "\n",
      " [[8 6]\n",
      " [2 4]]\n"
     ]
    }
   ],
   "source": [
    "odd_number = np.array([1,3,5,7]).reshape(2,2)\n",
    "even_number = np.array([8,6,2,4]).reshape(2,2)\n",
    "\n",
    "print(odd_number,\"\\n\\n\",even_number)"
   ]
  },
  {
   "cell_type": "code",
   "execution_count": 71,
   "id": "b1b30f25",
   "metadata": {},
   "outputs": [
    {
     "name": "stdout",
     "output_type": "stream",
     "text": [
      "[[ 8 18]\n",
      " [10 28]]\n",
      "\n",
      "\n",
      " [[ 5 15]\n",
      " [25 35]]\n"
     ]
    }
   ],
   "source": [
    "#  Multiplication of two arrays:\n",
    "print(odd_number * even_number)\n",
    "\n",
    "\n",
    "# Scalar Multiplication:\n",
    "print(\"\\n\\n\",odd_number * 5)"
   ]
  },
  {
   "cell_type": "code",
   "execution_count": 72,
   "id": "596578a5",
   "metadata": {},
   "outputs": [
    {
     "name": "stdout",
     "output_type": "stream",
     "text": [
      "[[14 18]\n",
      " [54 58]]\n"
     ]
    }
   ],
   "source": [
    "# Matrix Multiplication:\n",
    "\n",
    "print(odd_number.dot(even_number))"
   ]
  },
  {
   "cell_type": "code",
   "execution_count": 91,
   "id": "ca94449a",
   "metadata": {},
   "outputs": [
    {
     "name": "stdout",
     "output_type": "stream",
     "text": [
      "[[619167 470180 906712  85909 345098 660960 432778  46820 951989 859146]\n",
      " [759916  56906 785944 966892 963826 422108 921406 916359  47753 341066]\n",
      " [957996 454852  83426 428363 788684 379600 370575 528242  62185 485640]\n",
      " [672264 617485 288385 992043 679746 283984 704932 645607 535654 769380]\n",
      " [562602 397555 838750 917403 928314 803781 487683  98211 565671 665603]\n",
      " [512269 529617 789302  52477 360007  36804 961919  93351 159293 956361]]\n"
     ]
    }
   ],
   "source": [
    "salaries = np.random.randint(10000,1000000,60).reshape(6,10)\n",
    "print(salaries)"
   ]
  },
  {
   "cell_type": "code",
   "execution_count": 95,
   "id": "3eb1d3ff",
   "metadata": {},
   "outputs": [
    {
     "data": {
      "text/plain": [
       "array([[15, 17, 15, 16],\n",
       "       [19, 18, 11, 10],\n",
       "       [18, 10, 10, 14],\n",
       "       [19, 11, 19, 17]])"
      ]
     },
     "execution_count": 95,
     "metadata": {},
     "output_type": "execute_result"
    }
   ],
   "source": [
    "my_matrix = np.random.randint(10,20,16).reshape(4,4)\n",
    "my_matrix"
   ]
  },
  {
   "cell_type": "code",
   "execution_count": 96,
   "id": "fc763226",
   "metadata": {},
   "outputs": [
    {
     "data": {
      "text/plain": [
       "array([[17, 19, 11, 19],\n",
       "       [14, 10, 10, 18],\n",
       "       [10, 11, 18, 19],\n",
       "       [16, 15, 17, 15]])"
      ]
     },
     "execution_count": 96,
     "metadata": {},
     "output_type": "execute_result"
    }
   ],
   "source": [
    "np.flip(my_matrix)"
   ]
  },
  {
   "cell_type": "code",
   "execution_count": 97,
   "id": "08ab8a1a",
   "metadata": {},
   "outputs": [
    {
     "data": {
      "text/plain": [
       "array([[19, 11, 19, 17],\n",
       "       [18, 10, 10, 14],\n",
       "       [19, 18, 11, 10],\n",
       "       [15, 17, 15, 16]])"
      ]
     },
     "execution_count": 97,
     "metadata": {},
     "output_type": "execute_result"
    }
   ],
   "source": [
    "np.flipud(my_matrix)"
   ]
  },
  {
   "cell_type": "code",
   "execution_count": 102,
   "id": "7d194838",
   "metadata": {},
   "outputs": [
    {
     "name": "stdout",
     "output_type": "stream",
     "text": [
      "[[19 11 19 17]\n",
      " [18 10 10 14]\n",
      " [19 18 11 10]\n",
      " [15 17 15 16]]\n",
      "\n",
      " [[16 15 17 15]\n",
      " [10 11 18 19]\n",
      " [14 10 10 18]\n",
      " [17 19 11 19]]\n"
     ]
    }
   ],
   "source": [
    "print(np.flip(my_matrix,0))\n",
    "\n",
    "print(\"\\n\",np.flip(my_matrix,1))"
   ]
  },
  {
   "cell_type": "code",
   "execution_count": null,
   "id": "b6036c03",
   "metadata": {},
   "outputs": [],
   "source": []
  }
 ],
 "metadata": {
  "kernelspec": {
   "display_name": "Python 3 (ipykernel)",
   "language": "python",
   "name": "python3"
  },
  "language_info": {
   "codemirror_mode": {
    "name": "ipython",
    "version": 3
   },
   "file_extension": ".py",
   "mimetype": "text/x-python",
   "name": "python",
   "nbconvert_exporter": "python",
   "pygments_lexer": "ipython3",
   "version": "3.11.5"
  }
 },
 "nbformat": 4,
 "nbformat_minor": 5
}
