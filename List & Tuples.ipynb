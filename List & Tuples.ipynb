{
 "cells": [
  {
   "cell_type": "markdown",
   "id": "05fcca72",
   "metadata": {},
   "source": [
    "### List and Tuples"
   ]
  },
  {
   "cell_type": "code",
   "execution_count": 20,
   "id": "6df0e283",
   "metadata": {},
   "outputs": [
    {
     "name": "stdout",
     "output_type": "stream",
     "text": [
      "[1, 2, 45, 60, 7, 30, 10, 5, 6, 8]\n"
     ]
    }
   ],
   "source": [
    "# Creating a list\n",
    "mylist = [1, 2, 45, 60, 7, 30, 10, 5, 6, 8]\n",
    "print(mylist)"
   ]
  },
  {
   "cell_type": "code",
   "execution_count": 21,
   "id": "b7f96e41",
   "metadata": {},
   "outputs": [
    {
     "name": "stdout",
     "output_type": "stream",
     "text": [
      "[1, 2, True, 'Mystring']\n"
     ]
    }
   ],
   "source": [
    "mixed_list = [1, 2, True, 'Mystring']\n",
    "print(mixed_list)"
   ]
  },
  {
   "cell_type": "code",
   "execution_count": 2,
   "id": "1abc4bba",
   "metadata": {},
   "outputs": [
    {
     "name": "stdout",
     "output_type": "stream",
     "text": [
      "[65 73 13 99 32 75 43 18 58 71 74 48 47 78 73 65 11 97 22 82 42 43 12 55\n",
      " 74 23 15 92 86 97 68 57 98 97 80 20 10 53 61 50 92 52 68 72 49 49 13 62\n",
      " 87 27 43 47 48 32 85 71 32 85 63 70 77 53 58 16 53 56 74 78 24 41 62 41\n",
      " 23 64 94 76 49 55 23 73 58 26 82 64 27 12 38 68 45 46 65 30 70 71 79 91\n",
      " 88 47 13 41]\n"
     ]
    }
   ],
   "source": [
    "# Importing numbers from numpy and generating random numbers:\n",
    "import numpy as np\n",
    "my_numbers = np.random.randint(10,100,100)\n",
    "print(my_numbers)"
   ]
  },
  {
   "cell_type": "code",
   "execution_count": 3,
   "id": "c1f45eed",
   "metadata": {},
   "outputs": [
    {
     "name": "stdout",
     "output_type": "stream",
     "text": [
      "<class 'numpy.ndarray'>\n"
     ]
    }
   ],
   "source": [
    "my_num_list = type(my_numbers)\n",
    "print(my_num_list)"
   ]
  },
  {
   "cell_type": "code",
   "execution_count": 4,
   "id": "97bcf423",
   "metadata": {
    "scrolled": true
   },
   "outputs": [
    {
     "name": "stdout",
     "output_type": "stream",
     "text": [
      "<class 'list'>\n"
     ]
    }
   ],
   "source": [
    "#  Converting numpy.ndarray into a list:\n",
    "my_num_list = list(my_numbers)\n",
    "print(type(my_num_list))"
   ]
  },
  {
   "cell_type": "code",
   "execution_count": 5,
   "id": "82b8af6e",
   "metadata": {},
   "outputs": [
    {
     "name": "stdout",
     "output_type": "stream",
     "text": [
      "[65, 73, 13, 99, 32, 75, 43, 18, 58, 71, 74, 48, 47, 78, 73, 65, 11, 97, 22, 82, 42, 43, 12, 55, 74, 23, 15, 92, 86, 97, 68, 57, 98, 97, 80, 20, 10, 53, 61, 50, 92, 52, 68, 72, 49, 49, 13, 62, 87, 27, 43, 47, 48, 32, 85, 71, 32, 85, 63, 70, 77, 53, 58, 16, 53, 56, 74, 78, 24, 41, 62, 41, 23, 64, 94, 76, 49, 55, 23, 73, 58, 26, 82, 64, 27, 12, 38, 68, 45, 46, 65, 30, 70, 71, 79, 91, 88, 47, 13, 41]\n"
     ]
    }
   ],
   "source": [
    "print(my_num_list)"
   ]
  },
  {
   "cell_type": "code",
   "execution_count": 6,
   "id": "7db7c5d2",
   "metadata": {},
   "outputs": [
    {
     "data": {
      "text/plain": [
       "32"
      ]
     },
     "execution_count": 6,
     "metadata": {},
     "output_type": "execute_result"
    }
   ],
   "source": [
    "index = 4\n",
    "my_num_list[index]"
   ]
  },
  {
   "cell_type": "code",
   "execution_count": 7,
   "id": "26eafc54",
   "metadata": {},
   "outputs": [
    {
     "name": "stdout",
     "output_type": "stream",
     "text": [
      "[0, 1, 2, 3, 4, 5, 6, 7, 8, 9, 10, 11, 12, 13, 14, 15, 16, 17, 18, 19, 20, 21, 22, 23, 24, 25, 26, 27, 28, 29, 30, 31, 32, 33, 34, 35, 36, 37, 38, 39, 40, 41, 42, 43, 44, 45, 46, 47, 48, 49, 50, 51, 52, 53, 54, 55, 56, 57, 58, 59, 60, 61, 62, 63, 64, 65, 66, 67, 68, 69, 70, 71, 72, 73, 74, 75, 76, 77, 78, 79, 80, 81, 82, 83, 84, 85, 86, 87, 88, 89, 90, 91, 92, 93, 94, 95, 96, 97, 98, 99]\n"
     ]
    }
   ],
   "source": [
    "# Get the length of numbers using len():\n",
    "\n",
    "len(my_num_list)\n",
    "print(list(range(len(my_num_list))))"
   ]
  },
  {
   "cell_type": "code",
   "execution_count": 8,
   "id": "1d21dadb",
   "metadata": {},
   "outputs": [
    {
     "name": "stdout",
     "output_type": "stream",
     "text": [
      "65 73 13 99 75 43 71 47 73 65 11 97 43 55 23 15 97 57 97 53 61 49 49 13 87 27 43 47 85 71 85 63 77 53 53 41 41 23 49 55 23 73 27 45 65 71 79 91 47 13 41 "
     ]
    }
   ],
   "source": [
    "# Print the odd numbers from the number list using a loop:\n",
    "for i in range(len(my_num_list)):\n",
    "    if my_num_list[i] % 2 > 0:\n",
    "        print(my_num_list[i],end=\" \")"
   ]
  },
  {
   "cell_type": "code",
   "execution_count": 9,
   "id": "11b855d7",
   "metadata": {},
   "outputs": [
    {
     "name": "stdout",
     "output_type": "stream",
     "text": [
      "[65, 73, 13, 99, 75, 43, 71, 47, 73, 65, 11, 97, 43, 55, 23, 15, 97, 57, 97, 53, 61, 49, 49, 13, 87, 27, 43, 47, 85, 71, 85, 63, 77, 53, 53, 41, 41, 23, 49, 55, 23, 73, 27, 45, 65, 71, 79, 91, 47, 13, 41]\n",
      "[32, 18, 58, 74, 48, 78, 22, 82, 42, 12, 74, 92, 86, 68, 98, 80, 20, 10, 50, 92, 52, 68, 72, 62, 48, 32, 32, 70, 58, 16, 56, 74, 78, 24, 62, 64, 94, 76, 58, 26, 82, 64, 12, 38, 68, 46, 30, 70, 88]\n"
     ]
    }
   ],
   "source": [
    "# Print the odd & even numbers from the number list using a loop:\n",
    "\n",
    "my_odd_list = []\n",
    "for i in range(len(my_num_list)):\n",
    "    if my_num_list[i] % 2 > 0:\n",
    "        my_odd_list.append(my_num_list[i])\n",
    "print(my_odd_list)\n",
    "\n",
    "my_even_list = []\n",
    "for j in range(len(my_num_list)):\n",
    "    if my_num_list[j] % 2 == 0:\n",
    "        my_even_list.append(my_num_list[j])\n",
    "print(my_even_list)"
   ]
  },
  {
   "cell_type": "code",
   "execution_count": 10,
   "id": "78f6b8ae",
   "metadata": {},
   "outputs": [
    {
     "name": "stdout",
     "output_type": "stream",
     "text": [
      "My odd number list is:\n",
      " [65, 73, 13, 99, 75, 43, 71, 47, 73, 65, 11, 97, 43, 55, 23, 15, 97, 57, 97, 53, 61, 49, 49, 13, 87, 27, 43, 47, 85, 71, 85, 63, 77, 53, 53, 41, 41, 23, 49, 55, 23, 73, 27, 45, 65, 71, 79, 91, 47, 13, 41]\n",
      "\n",
      " Number of odd numbers in the list is:  51\n",
      "\n",
      "My even number list is: \n",
      " [32, 18, 58, 74, 48, 78, 22, 82, 42, 12, 74, 92, 86, 68, 98, 80, 20, 10, 50, 92, 52, 68, 72, 62, 48, 32, 32, 70, 58, 16, 56, 74, 78, 24, 62, 64, 94, 76, 58, 26, 82, 64, 12, 38, 68, 46, 30, 70, 88]\n",
      "\n",
      " Number of even numbers in the list is:  49\n"
     ]
    }
   ],
   "source": [
    "print(\"My odd number list is:\\n\", my_odd_list)\n",
    "print(\"\\n\",\"Number of odd numbers in the list is: \", len(my_odd_list))\n",
    "\n",
    "print(\"\\n\"\"My even number list is: \\n\", my_even_list)\n",
    "print(\"\\n\",\"Number of even numbers in the list is: \", len(my_even_list))"
   ]
  },
  {
   "cell_type": "code",
   "execution_count": 11,
   "id": "49af4adb",
   "metadata": {},
   "outputs": [
    {
     "name": "stdout",
     "output_type": "stream",
     "text": [
      "My odd number list is:\n",
      " [65, 73, 13, 99, 75, 43, 71, 47, 73, 65, 11, 97, 43, 55, 23, 15, 97, 57, 97, 53, 61, 49, 49, 13, 87, 27, 43, 47, 85, 71, 85, 63, 77, 53, 53, 41, 41, 23, 49, 55, 23, 73, 27, 45, 65, 71, 79, 91, 47, 13, 41]\n",
      "\n",
      " Number of odd numbers in the list is:  51\n",
      "\n",
      "My even number list is: \n",
      " [32, 18, 58, 74, 48, 78, 22, 82, 42, 12, 74, 92, 86, 68, 98, 80, 20, 10, 50, 92, 52, 68, 72, 62, 48, 32, 32, 70, 58, 16, 56, 74, 78, 24, 62, 64, 94, 76, 58, 26, 82, 64, 12, 38, 68, 46, 30, 70, 88]\n",
      "\n",
      " Number of even numbers in the list is:  49\n"
     ]
    }
   ],
   "source": [
    "my_odd_list = []\n",
    "my_even_list = []\n",
    "for i in range(len(my_num_list)):\n",
    "    if my_num_list[i] % 2 > 0:\n",
    "        my_odd_list.append(my_num_list[i])\n",
    "    else:\n",
    "        my_even_list.append(my_num_list[i])\n",
    "print(\"My odd number list is:\\n\", my_odd_list)\n",
    "print(\"\\n\",\"Number of odd numbers in the list is: \", len(my_odd_list))\n",
    "\n",
    "print(\"\\n\"\"My even number list is: \\n\", my_even_list)\n",
    "print(\"\\n\",\"Number of even numbers in the list is: \", len(my_even_list))"
   ]
  },
  {
   "cell_type": "code",
   "execution_count": 12,
   "id": "3bfa14f7",
   "metadata": {},
   "outputs": [
    {
     "name": "stdout",
     "output_type": "stream",
     "text": [
      "(1, 2, 5, 10, 20)\n",
      "<class 'tuple'>\n"
     ]
    }
   ],
   "source": [
    "#  Creating a Tuple\n",
    "\n",
    "my_tuple = (1, 2, 5, 10, 20)\n",
    "print(my_tuple)\n",
    "print(type(my_tuple))"
   ]
  },
  {
   "cell_type": "code",
   "execution_count": 13,
   "id": "aff484da",
   "metadata": {},
   "outputs": [
    {
     "data": {
      "text/plain": [
       "1"
      ]
     },
     "execution_count": 13,
     "metadata": {},
     "output_type": "execute_result"
    }
   ],
   "source": [
    "my_tuple[0]"
   ]
  },
  {
   "cell_type": "code",
   "execution_count": 14,
   "id": "6b8c8fbe",
   "metadata": {},
   "outputs": [
    {
     "name": "stdout",
     "output_type": "stream",
     "text": [
      "Length of my new list is:  0\n"
     ]
    }
   ],
   "source": [
    "my_new_list = []\n",
    "print(\"Length of my new list is: \",len(my_new_list))"
   ]
  },
  {
   "cell_type": "code",
   "execution_count": 15,
   "id": "75b0441d",
   "metadata": {},
   "outputs": [
    {
     "name": "stdout",
     "output_type": "stream",
     "text": [
      "[57, 92, 19, 20, 56, 11, 27, 12, 57, 58, 65, 47, 32, 53, 83, 12, 17, 61, 24, 56, 26, 81, 62, 70, 64, 39, 14, 71, 82, 91, 35, 90, 77, 45, 94, 20, 44, 72, 72, 40, 79, 96, 25, 78, 38, 89, 90, 26, 63, 87]\n",
      "[688, 304, 495, 921, 908, 878, 232, 927, 124, 918, 440, 577, 588, 367, 358, 286, 489, 162, 295, 987, 888, 604, 147, 482, 830, 113, 909, 763, 767, 119, 679, 549, 362, 927, 955, 504, 287, 172, 519, 635, 763, 562, 495, 861, 468, 723, 617, 739, 262, 230]\n"
     ]
    }
   ],
   "source": [
    "# Combination of 2 lists in 1 using Extend function:\n",
    "\n",
    "list1 = list(np.random.randint(10, 100, 50))\n",
    "list2 = list(np.random.randint(100, 1000, 50))\n",
    "print(list1)\n",
    "print(list2)"
   ]
  },
  {
   "cell_type": "code",
   "execution_count": 16,
   "id": "6a4bf73b",
   "metadata": {},
   "outputs": [],
   "source": [
    "list1.extend(list2)"
   ]
  },
  {
   "cell_type": "code",
   "execution_count": 17,
   "id": "4c5a3781",
   "metadata": {},
   "outputs": [
    {
     "name": "stdout",
     "output_type": "stream",
     "text": [
      "100\n"
     ]
    }
   ],
   "source": [
    "print(len(list1))"
   ]
  },
  {
   "cell_type": "code",
   "execution_count": 22,
   "id": "c451cd04",
   "metadata": {},
   "outputs": [
    {
     "name": "stdout",
     "output_type": "stream",
     "text": [
      "[1, 2, 45, 60, 7, 30, 10, 5, 6, 8]\n"
     ]
    }
   ],
   "source": [
    "mylist = [1, 2, 45, 60, 7, 30, 10, 5, 6, 8]\n",
    "print(mylist)"
   ]
  },
  {
   "cell_type": "code",
   "execution_count": 23,
   "id": "dec28f6e",
   "metadata": {},
   "outputs": [],
   "source": [
    "mylist.insert(9, 5)"
   ]
  },
  {
   "cell_type": "code",
   "execution_count": 24,
   "id": "a8ab3b6d",
   "metadata": {},
   "outputs": [
    {
     "name": "stdout",
     "output_type": "stream",
     "text": [
      "[1, 2, 45, 60, 7, 30, 10, 5, 6, 5, 8]\n"
     ]
    }
   ],
   "source": [
    "print(mylist)"
   ]
  },
  {
   "cell_type": "code",
   "execution_count": 25,
   "id": "6baeb66c",
   "metadata": {},
   "outputs": [],
   "source": [
    "# removal of elements:\n",
    "\n"
   ]
  },
  {
   "cell_type": "code",
   "execution_count": 29,
   "id": "290f96ef",
   "metadata": {},
   "outputs": [
    {
     "name": "stdout",
     "output_type": "stream",
     "text": [
      "Length of List 1:  100\n",
      "78\n",
      "The existance of 78 in list 1: The result is = True\n"
     ]
    }
   ],
   "source": [
    "#  Commen list Operations\n",
    "\n",
    "# Checking the existanceof an element in a list \n",
    "\n",
    "print(\"Length of List 1: \", len(list1))\n",
    "\n",
    "check_element  = int(input())\n",
    "\n",
    "print(\"The existance of {} in list 1: The result is = {}\".\\\n",
    "      format(check_element, (check_element in list1)))"
   ]
  },
  {
   "cell_type": "code",
   "execution_count": 30,
   "id": "88e175c4",
   "metadata": {},
   "outputs": [
    {
     "name": "stdout",
     "output_type": "stream",
     "text": [
      "[57, 92, 19, 20, 56, 11, 27, 12, 57, 58]\n",
      "Before reversing the element:  [57, 92, 19, 20, 56, 11, 27, 12, 57, 58]\n",
      "After reversing the element:  [58, 57, 12, 27, 11, 56, 20, 19, 92, 57]\n"
     ]
    }
   ],
   "source": [
    "# List manipulation:\n",
    "my_subset = list1[0:10]\n",
    "print(my_subset)\n",
    "# Reversing element in my subset\n",
    "print(\"Before reversing the element: \", my_subset)\n",
    "\n",
    "my_subset.reverse()\n",
    "print(\"After reversing the element: \", my_subset)"
   ]
  },
  {
   "cell_type": "code",
   "execution_count": 31,
   "id": "26a242b6",
   "metadata": {},
   "outputs": [
    {
     "name": "stdout",
     "output_type": "stream",
     "text": [
      "Before sorting the elements:  [58, 57, 12, 27, 11, 56, 20, 19, 92, 57]\n",
      "\n",
      "After sorting the element in Ascending order:  [11, 12, 19, 20, 27, 56, 57, 57, 58, 92]\n",
      "\n",
      "After sorting the element in Decending order:  [92, 58, 57, 57, 56, 27, 20, 19, 12, 11]\n"
     ]
    }
   ],
   "source": [
    "# Sorting the elements\n",
    "\n",
    "print(\"Before sorting the elements: \", my_subset)\n",
    "\n",
    "my_subset.sort()\n",
    "print(\"\\nAfter sorting the element in Ascending order: \", my_subset)\n",
    "\n",
    "my_subset.sort(reverse= True)\n",
    "print(\"\\nAfter sorting the element in Decending order: \", my_subset)"
   ]
  },
  {
   "cell_type": "code",
   "execution_count": 32,
   "id": "e6941b3f",
   "metadata": {},
   "outputs": [
    {
     "name": "stdout",
     "output_type": "stream",
     "text": [
      "Printing the last element using negative indexing:  n\n",
      "list with skipped elements:  Pto\n"
     ]
    }
   ],
   "source": [
    "#### Slicing and Indexing\n",
    "\n",
    "name = \"Python\"\n",
    "\n",
    "print(\"Printing the last element using negative indexing: \", name[-1])\n",
    "\n",
    "print(\"list with skipped elements: \", name[::2])"
   ]
  },
  {
   "cell_type": "code",
   "execution_count": 33,
   "id": "76f853fc",
   "metadata": {},
   "outputs": [
    {
     "data": {
      "text/plain": [
       "2"
      ]
     },
     "execution_count": 33,
     "metadata": {},
     "output_type": "execute_result"
    }
   ],
   "source": [
    "matrix = [[1,2,3], [4,5,6], [7,8,9]]\n",
    "\n",
    "# Accesing the first element:\n",
    "matrix[0]\n",
    "\n",
    "# Accesing the inner elements of an list:\n",
    "matrix[0][1]"
   ]
  },
  {
   "cell_type": "code",
   "execution_count": 34,
   "id": "1d581979",
   "metadata": {},
   "outputs": [
    {
     "name": "stdout",
     "output_type": "stream",
     "text": [
      "Number of odd numbers in the list is:  [65, 73, 13, 99, 75, 43, 71, 47, 73, 65, 11, 97, 43, 55, 23, 15, 97, 57, 97, 53, 61, 49, 49, 13, 87, 27, 43, 47, 85, 71, 85, 63, 77, 53, 53, 41, 41, 23, 49, 55, 23, 73, 27, 45, 65, 71, 79, 91, 47, 13, 41]\n",
      "\n",
      "Number of even numbers in the list is:  [32, 18, 58, 74, 48, 78, 22, 82, 42, 12, 74, 92, 86, 68, 98, 80, 20, 10, 50, 92, 52, 68, 72, 62, 48, 32, 32, 70, 58, 16, 56, 74, 78, 24, 62, 64, 94, 76, 58, 26, 82, 64, 12, 38, 68, 46, 30, 70, 88]\n"
     ]
    }
   ],
   "source": [
    "# Using list Comprehension:\n",
    "\n",
    "my_odd_list = [num for num in my_num_list if num % 2 >0]\n",
    "print(\"Number of odd numbers in the list is: \",my_odd_list)\n",
    "\n",
    "my_even_list = [num for num in my_num_list if num % 2 == 0]\n",
    "print(\"\\n\"\"Number of even numbers in the list is: \",my_even_list)"
   ]
  },
  {
   "cell_type": "code",
   "execution_count": 35,
   "id": "e64a2077",
   "metadata": {},
   "outputs": [
    {
     "name": "stdout",
     "output_type": "stream",
     "text": [
      "[6, 15, 24]\n"
     ]
    }
   ],
   "source": [
    "### Sum of matrix elements:\n",
    "\n",
    "matrix = [[1,2,3], [4,5,6], [7,8,9]]\n",
    "matrix_sum = [sum(lst) for lst in matrix]\n",
    "print(matrix_sum)"
   ]
  },
  {
   "cell_type": "code",
   "execution_count": 36,
   "id": "e47b2342",
   "metadata": {},
   "outputs": [
    {
     "name": "stdout",
     "output_type": "stream",
     "text": [
      "<class 'tuple'>\n"
     ]
    }
   ],
   "source": [
    "tup1 = (1, 2, 3)\n",
    "tup2 = ('a', 'b')\n",
    "tup3 = True, False\n",
    "\n",
    "print(type(tup3))"
   ]
  },
  {
   "cell_type": "code",
   "execution_count": 37,
   "id": "66465da3",
   "metadata": {},
   "outputs": [
    {
     "name": "stdout",
     "output_type": "stream",
     "text": [
      "(1, 2, 3, 'a', 'b', True, False)\n"
     ]
    }
   ],
   "source": [
    "## Concatenation of Tuples:\n",
    "\n",
    "com_tuple = tup1 + tup2 + tup3\n",
    "\n",
    "print(com_tuple)"
   ]
  },
  {
   "cell_type": "code",
   "execution_count": 38,
   "id": "85b52d03",
   "metadata": {},
   "outputs": [
    {
     "name": "stdout",
     "output_type": "stream",
     "text": [
      "Repetation operation:  (1, 2, 3, 1, 2, 3, 1, 2, 3)\n"
     ]
    }
   ],
   "source": [
    "## Repetation Operation:\n",
    "\n",
    "print(\"Repetation operation: \", tup1 * 3)"
   ]
  },
  {
   "cell_type": "code",
   "execution_count": 39,
   "id": "e052c8e1",
   "metadata": {},
   "outputs": [
    {
     "name": "stdout",
     "output_type": "stream",
     "text": [
      "[2, 4, 6]\n",
      "2\n",
      "4\n",
      "6\n"
     ]
    }
   ],
   "source": [
    "## \n",
    "\n",
    "my_tuple = [num * 2 for num in tup1]\n",
    "print(my_tuple)\n",
    "\n",
    "for ele in my_tuple:\n",
    "    print(ele)"
   ]
  },
  {
   "cell_type": "code",
   "execution_count": null,
   "id": "769670ef",
   "metadata": {},
   "outputs": [],
   "source": []
  },
  {
   "cell_type": "markdown",
   "id": "331d22e4",
   "metadata": {},
   "source": [
    "# HANDS ON PRACTICE: LISTS"
   ]
  },
  {
   "cell_type": "code",
   "execution_count": 40,
   "id": "e7dc9cad",
   "metadata": {},
   "outputs": [
    {
     "name": "stdout",
     "output_type": "stream",
     "text": [
      "The highest score in the class is:  92\n",
      "The average score in the class is:  84.6\n",
      "Students scoring above 80: ['Mary', 'Zaltan']\n",
      "The sorted names are: ['John', 'Mary', 'Messi', 'Zaltan']\n"
     ]
    }
   ],
   "source": [
    "# You are provided with a list of student scores in a class. Perform the following operations:\n",
    "\n",
    "student_names = [\"John\", \"Mary\", \"Messi\", \"Zaltan\"]\n",
    "scores = [75, 86, 80, 92, 90]\n",
    "\n",
    "# Find and display the highest score in the class.\n",
    "highest_scores = max(scores)\n",
    "print(\"The highest score in the class is: \", highest_scores)\n",
    "\n",
    "# Calculate and print the average score of the class.\n",
    "average_score = sum(scores)/len(scores)\n",
    "print(\"The average score in the class is: \", average_score)\n",
    "\n",
    "# Identify and display the names of students who scored above a certain threshold (e.g., 80).\n",
    "threshold = 80\n",
    "above_threshold = [name for name, score in zip(student_names, scores) if score > threshold]\n",
    "print(f\"Students scoring above {threshold}: {above_threshold}\")\n",
    "\n",
    "# Sort and display the student names in alphabetical order.\n",
    "display_name = sorted(student_names)\n",
    "print(f\"The sorted names are:\", display_name)"
   ]
  },
  {
   "cell_type": "code",
   "execution_count": 41,
   "id": "dff35e85",
   "metadata": {},
   "outputs": [
    {
     "name": "stdout",
     "output_type": "stream",
     "text": [
      "The squares are:  [1, 4, 9, 16, 25, 36, 49, 64, 81, 100]\n",
      "The cubes are:  [1, 8, 27, 64, 125, 216, 343, 512, 729, 1000]\n"
     ]
    }
   ],
   "source": [
    "# Generate Squares and Cubes\n",
    "\n",
    "# Write a program to generate two lists using list comprehension. The first list should contain the squares of numbers from 1 to 10, and the second list should contain the cubes of the same numbers.\n",
    "\n",
    "# List to generate square & cubes:\n",
    "\n",
    "squares = [x**2 for x in range(1,11)]\n",
    "cubes = [x**3 for x in range(1,11)]\n",
    "\n",
    "# Execute the block of code:\n",
    "\n",
    "print(f\"The squares are: \", squares)\n",
    "print(f\"The cubes are: \", cubes)\n"
   ]
  },
  {
   "cell_type": "code",
   "execution_count": 42,
   "id": "6f6a0af3",
   "metadata": {},
   "outputs": [
    {
     "name": "stdout",
     "output_type": "stream",
     "text": [
      "Original numbers:  [-1, 3, -9, -4, -6, -7, 6, 8, 10]\n",
      "Positive numbers:  [3, 6, 8, 10]\n"
     ]
    }
   ],
   "source": [
    "# Filtering Positive Numbers\n",
    "\n",
    "# Given a list of numbers, create a new list that contains only the positive numbers from the original list. Implement this using list comprehension.\n",
    "\n",
    "# Sample list of numbers:\n",
    "numbers = [-1, 3, -9, -4, -6, -7, 6, 8, 10]\n",
    "\n",
    "# List Comprehension method:\n",
    "positive_numbers = [num for num in numbers if num > 0]\n",
    "\n",
    "# Execute the block of code:\n",
    "\n",
    "print(\"Original numbers: \", numbers)\n",
    "print(\"Positive numbers: \", positive_numbers)"
   ]
  },
  {
   "cell_type": "code",
   "execution_count": 43,
   "id": "43765608",
   "metadata": {},
   "outputs": [
    {
     "name": "stdout",
     "output_type": "stream",
     "text": [
      "Original list:  ['Alice', 'Bob', 'Messi', 'Zaltan', 'Ronaldo', 'Neymar']\n",
      "Sorted list:  ['Alice', 'Bob', 'Messi', 'Neymar', 'Ronaldo', 'Zaltan']\n"
     ]
    }
   ],
   "source": [
    "# Sorting Student Names\n",
    "\n",
    "# You have a list of student names. Implement a program to sort the names alphabetically and display the sorted list.\n",
    "\n",
    "student_names = [\"Alice\", \"Bob\", \"Messi\", \"Zaltan\", \"Ronaldo\", \"Neymar\"]\n",
    "\n",
    "# Sorting List Method:\n",
    "\n",
    "sorted_names = sorted(student_names)\n",
    "\n",
    "# Execution of code:\n",
    "\n",
    "print(\"Original list: \", student_names)\n",
    "print(\"Sorted list: \", sorted_names)"
   ]
  },
  {
   "cell_type": "code",
   "execution_count": null,
   "id": "158f7698",
   "metadata": {},
   "outputs": [],
   "source": []
  },
  {
   "cell_type": "markdown",
   "id": "089627d6",
   "metadata": {},
   "source": [
    "# HANDS ON PRACTICE: TUPLES"
   ]
  },
  {
   "cell_type": "code",
   "execution_count": 44,
   "id": "9b861acd",
   "metadata": {},
   "outputs": [
    {
     "name": "stdout",
     "output_type": "stream",
     "text": [
      "Course information for CS101:\n",
      "Name: ['Alice', 'Bob', 'Charlie']:\n",
      "Grades: [90, 85, 92]:\n",
      "Average grade is: 89.0\n",
      "\n",
      "The student with highest score is: Charlie\n",
      "\n",
      "Updated Course information for CS101:\n",
      "Name: ['Alice', 'Bob', 'Charlie']:\n",
      "Grades: [90, 89, 92]:\n",
      "Average grade is: 89.0\n"
     ]
    }
   ],
   "source": [
    "# You are managing student course enrollments, and each course has a unique identifier, a list of enrolled students, and their corresponding grades. Implement a program using advanced tuple operations to perform the following:\n",
    "\n",
    "\n",
    "# Create a tuple for a course containing its identifier, a list of enrolled students, and their grades.\n",
    "course_info = (\"CS101\", [\"Alice\", \"Bob\", \"Charlie\"], [90, 85, 92])\n",
    "\n",
    "# Display the course information, including the average grade.\n",
    "course_id, students, grades = course_info\n",
    "average = sum(grades)/len(grades)\n",
    "print(f\"Course information for {course_id}:\\nName: {students}:\\nGrades: {grades}:\\nAverage grade is: {average}\")\n",
    "\n",
    "# Identify and display the student with the highest grade in the course.\n",
    "highest_score = students[grades.index(max(grades))]\n",
    "print(f\"\\nThe student with highest score is: {highest_score}\")\n",
    "\n",
    "# Update the grade of a specific student.\n",
    "upgrade_list = list(grades)\n",
    "upgrade_list[1] = 89\n",
    "course_id, students, grades = course_info\n",
    "print(f\"\\nUpdated Course information for {course_id}:\\nName: {students}:\\nGrades: {upgrade_list}:\\nAverage grade is: {average}\")"
   ]
  },
  {
   "cell_type": "code",
   "execution_count": 58,
   "id": "6dbb5557",
   "metadata": {},
   "outputs": [
    {
     "name": "stdout",
     "output_type": "stream",
     "text": [
      "[('Alice', 20, 85), ('Bob', 23, 90), ('Charlie', 16, 78), ('Delta', 25, 92)]\n",
      "\n",
      "List of student tuples: [('Alice', 20, 85), ('Bob', 23, 90), ('Charlie', 16, 78), ('Delta', 25, 92)]\n",
      "\n",
      "New filtered student list: [('Bob', 23, 90), ('Delta', 25, 92)]\n"
     ]
    }
   ],
   "source": [
    "# Filtered Student Information \n",
    "\n",
    "# You have a list of student names, their ages, and their grades. Implement a program using tuple comprehension and filtering to perform the following:\n",
    "student_names = [\"Alice\", \"Bob\", \"Charlie\", \"Delta\"]\n",
    "ages = [20, 23, 16, 25]\n",
    "grades = [85, 90, 78, 92]\n",
    "\n",
    "# Create a list of tuples where each tuple contains a student’s name, age, and grade.\n",
    "new_student_list = [(names, age, grade) for names, age, grade  in zip(student_names, ages, grades)]\n",
    "print(new_student_list)\n",
    "\n",
    "# Display the list of student tuples.\n",
    "print(\"\\nList of student tuples:\", new_student_list)\n",
    "\n",
    "# Filter and display only the information of students who are above a certain age.\n",
    "filtered_student_list = [(names, age, grade) for names, age, grade in new_student_list if age > 20]\n",
    "print(\"\\nNew filtered student list:\", filtered_student_list)"
   ]
  },
  {
   "cell_type": "code",
   "execution_count": 1,
   "id": "20a69007",
   "metadata": {},
   "outputs": [
    {
     "name": "stdout",
     "output_type": "stream",
     "text": [
      "Total Salary is:  [3600, 2030, 2850]\n",
      "Highest Salary:  ('Charlie', 90, 40)\n",
      "Average Salary:  2826.6666666666665\n"
     ]
    }
   ],
   "source": [
    "#Employee Salary Calculation\n",
    "\n",
    "# You have a list of employees, and each employee is represented as a tuple containing their name, hourly rate, and hours worked./\n",
    "# Implement a program using tuple unpacking and functions to perform the following:\n",
    "employees = [(\"Charlie\", 90, 40), (\"Bob\", 58, 35), (\"Alice\", 75, 38)]\n",
    "\n",
    "# Calculate and display the total salary for each employee.\n",
    "def emp_total_salary(rate, hours):\n",
    "    return rate * hours\n",
    "\n",
    "total_emp_salary = [emp_total_salary(rate, hours) for _, rate, hours in employees]\n",
    "print(\"Total Salary is: \",total_emp_salary)\n",
    "\n",
    "\n",
    "# Identify and display the employee with the highest total salary.\n",
    "highest_salary = employees[total_emp_salary.index(max(total_emp_salary))]\n",
    "print(\"Highest Salary: \", highest_salary)\n",
    "\n",
    "# Display the average total salary of all employees.\n",
    "average_salary = sum(total_emp_salary)/ len(employees)\n",
    "print(\"Average Salary: \", average_salary)\n"
   ]
  },
  {
   "cell_type": "code",
   "execution_count": 30,
   "id": "3d7a941e",
   "metadata": {},
   "outputs": [
    {
     "name": "stdout",
     "output_type": "stream",
     "text": [
      "Average Score is: {'Alice': 89.0, 'Bob': 83.66666666666667, 'Charlie': 92.33333333333333}\n",
      "Charlie\n",
      "Subject Average Scores: {'Subject1': 84.33333333333333, 'Subject2': 89.0, 'Subject3': 91.66666666666667}\n"
     ]
    }
   ],
   "source": [
    "# STUDENT GRADE BOOK:\n",
    "grade_book = {\"Alice\": (85, 90, 92), \"Bob\": (78, 85, 88), \"Charlie\": (90, 92, 95)}\n",
    "\n",
    "# Display the student names and their average scores.\n",
    "average_score = {name: sum(scores)/ len(scores) for name, scores in grade_book.items()}\n",
    "print(\"Average Score is:\", average_score)\n",
    "\n",
    "# Identify and display the student with the highest average score. \n",
    "highest_score = max(average_score, key= average_score.get)\n",
    "print(highest_score)\n",
    "\n",
    "# Display the average scores for each subject.\n",
    "subject_names = [\"Subject1\", \"Subject2\", \"Subject3\"]\n",
    "subject_averages = {subject: sum(grade_book[name][i] for name in grade_book) / len(grade_book) for i, subject in enumerate(subject_names)}\n",
    "print(\"Subject Average Scores:\", subject_averages)"
   ]
  },
  {
   "cell_type": "code",
   "execution_count": 10,
   "id": "da8f4913",
   "metadata": {},
   "outputs": [
    {
     "name": "stdout",
     "output_type": "stream",
     "text": [
      "0 1 2 3 4 5 6 7 8 9 10 11 12 13 14 15 16 17 18 19 20 21 22 23 24 25 26 27 28 29 30 31 32 33 34 35 36 37 38 39 40 41 42 43 44 45 46 47 48 49 50 51 52 53 54 55 56 57 58 59 60 61 62 63 64 65 66 67 68 69 70 71 72 73 74 75 76 77 78 79 80 81 82 83 84 85 86 87 88 89 90 91 92 93 94 95 96 97 98 99 100 "
     ]
    }
   ],
   "source": [
    "num = 0\n",
    "while num <= 100: \n",
    "    print(num, end=\" \")  # (n =0 , n-1)\n",
    "    num+=1"
   ]
  },
  {
   "cell_type": "code",
   "execution_count": 19,
   "id": "b246ddf8",
   "metadata": {},
   "outputs": [
    {
     "name": "stdout",
     "output_type": "stream",
     "text": [
      "apple\n",
      "banana\n",
      "cherry\n",
      "mango\n"
     ]
    }
   ],
   "source": [
    "fruits = [\"apple\", \"banana\", \"cherry\", \"mango\"]\n",
    "for fruit in fruits:\n",
    "    print(fruit)"
   ]
  }
 ],
 "metadata": {
  "kernelspec": {
   "display_name": "Python 3 (ipykernel)",
   "language": "python",
   "name": "python3"
  },
  "language_info": {
   "codemirror_mode": {
    "name": "ipython",
    "version": 3
   },
   "file_extension": ".py",
   "mimetype": "text/x-python",
   "name": "python",
   "nbconvert_exporter": "python",
   "pygments_lexer": "ipython3",
   "version": "3.11.5"
  }
 },
 "nbformat": 4,
 "nbformat_minor": 5
}
